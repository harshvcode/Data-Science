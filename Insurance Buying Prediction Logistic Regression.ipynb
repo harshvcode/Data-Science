{
 "cells": [
  {
   "cell_type": "code",
   "execution_count": 2,
   "metadata": {},
   "outputs": [
    {
     "data": {
      "text/html": [
       "<div>\n",
       "<style scoped>\n",
       "    .dataframe tbody tr th:only-of-type {\n",
       "        vertical-align: middle;\n",
       "    }\n",
       "\n",
       "    .dataframe tbody tr th {\n",
       "        vertical-align: top;\n",
       "    }\n",
       "\n",
       "    .dataframe thead th {\n",
       "        text-align: right;\n",
       "    }\n",
       "</style>\n",
       "<table border=\"1\" class=\"dataframe\">\n",
       "  <thead>\n",
       "    <tr style=\"text-align: right;\">\n",
       "      <th></th>\n",
       "      <th>age</th>\n",
       "      <th>buy_insurance</th>\n",
       "    </tr>\n",
       "  </thead>\n",
       "  <tbody>\n",
       "    <tr>\n",
       "      <th>0</th>\n",
       "      <td>22</td>\n",
       "      <td>0</td>\n",
       "    </tr>\n",
       "    <tr>\n",
       "      <th>1</th>\n",
       "      <td>25</td>\n",
       "      <td>0</td>\n",
       "    </tr>\n",
       "    <tr>\n",
       "      <th>2</th>\n",
       "      <td>47</td>\n",
       "      <td>1</td>\n",
       "    </tr>\n",
       "    <tr>\n",
       "      <th>3</th>\n",
       "      <td>52</td>\n",
       "      <td>0</td>\n",
       "    </tr>\n",
       "    <tr>\n",
       "      <th>4</th>\n",
       "      <td>46</td>\n",
       "      <td>1</td>\n",
       "    </tr>\n",
       "    <tr>\n",
       "      <th>5</th>\n",
       "      <td>56</td>\n",
       "      <td>1</td>\n",
       "    </tr>\n",
       "    <tr>\n",
       "      <th>6</th>\n",
       "      <td>55</td>\n",
       "      <td>0</td>\n",
       "    </tr>\n",
       "    <tr>\n",
       "      <th>7</th>\n",
       "      <td>60</td>\n",
       "      <td>1</td>\n",
       "    </tr>\n",
       "    <tr>\n",
       "      <th>8</th>\n",
       "      <td>62</td>\n",
       "      <td>1</td>\n",
       "    </tr>\n",
       "    <tr>\n",
       "      <th>9</th>\n",
       "      <td>61</td>\n",
       "      <td>1</td>\n",
       "    </tr>\n",
       "    <tr>\n",
       "      <th>10</th>\n",
       "      <td>18</td>\n",
       "      <td>0</td>\n",
       "    </tr>\n",
       "    <tr>\n",
       "      <th>11</th>\n",
       "      <td>28</td>\n",
       "      <td>0</td>\n",
       "    </tr>\n",
       "    <tr>\n",
       "      <th>12</th>\n",
       "      <td>27</td>\n",
       "      <td>0</td>\n",
       "    </tr>\n",
       "    <tr>\n",
       "      <th>13</th>\n",
       "      <td>29</td>\n",
       "      <td>0</td>\n",
       "    </tr>\n",
       "    <tr>\n",
       "      <th>14</th>\n",
       "      <td>49</td>\n",
       "      <td>1</td>\n",
       "    </tr>\n",
       "    <tr>\n",
       "      <th>15</th>\n",
       "      <td>55</td>\n",
       "      <td>1</td>\n",
       "    </tr>\n",
       "    <tr>\n",
       "      <th>16</th>\n",
       "      <td>25</td>\n",
       "      <td>1</td>\n",
       "    </tr>\n",
       "    <tr>\n",
       "      <th>17</th>\n",
       "      <td>58</td>\n",
       "      <td>1</td>\n",
       "    </tr>\n",
       "    <tr>\n",
       "      <th>18</th>\n",
       "      <td>19</td>\n",
       "      <td>0</td>\n",
       "    </tr>\n",
       "    <tr>\n",
       "      <th>19</th>\n",
       "      <td>18</td>\n",
       "      <td>0</td>\n",
       "    </tr>\n",
       "    <tr>\n",
       "      <th>20</th>\n",
       "      <td>21</td>\n",
       "      <td>0</td>\n",
       "    </tr>\n",
       "    <tr>\n",
       "      <th>21</th>\n",
       "      <td>26</td>\n",
       "      <td>0</td>\n",
       "    </tr>\n",
       "    <tr>\n",
       "      <th>22</th>\n",
       "      <td>40</td>\n",
       "      <td>1</td>\n",
       "    </tr>\n",
       "    <tr>\n",
       "      <th>23</th>\n",
       "      <td>45</td>\n",
       "      <td>1</td>\n",
       "    </tr>\n",
       "    <tr>\n",
       "      <th>24</th>\n",
       "      <td>50</td>\n",
       "      <td>1</td>\n",
       "    </tr>\n",
       "    <tr>\n",
       "      <th>25</th>\n",
       "      <td>54</td>\n",
       "      <td>1</td>\n",
       "    </tr>\n",
       "    <tr>\n",
       "      <th>26</th>\n",
       "      <td>23</td>\n",
       "      <td>0</td>\n",
       "    </tr>\n",
       "  </tbody>\n",
       "</table>\n",
       "</div>"
      ],
      "text/plain": [
       "    age  buy_insurance\n",
       "0    22              0\n",
       "1    25              0\n",
       "2    47              1\n",
       "3    52              0\n",
       "4    46              1\n",
       "5    56              1\n",
       "6    55              0\n",
       "7    60              1\n",
       "8    62              1\n",
       "9    61              1\n",
       "10   18              0\n",
       "11   28              0\n",
       "12   27              0\n",
       "13   29              0\n",
       "14   49              1\n",
       "15   55              1\n",
       "16   25              1\n",
       "17   58              1\n",
       "18   19              0\n",
       "19   18              0\n",
       "20   21              0\n",
       "21   26              0\n",
       "22   40              1\n",
       "23   45              1\n",
       "24   50              1\n",
       "25   54              1\n",
       "26   23              0"
      ]
     },
     "execution_count": 2,
     "metadata": {},
     "output_type": "execute_result"
    }
   ],
   "source": [
    "import pandas as pd\n",
    "import matplotlib.pyplot as plt\n",
    "%matplotlib inline\n",
    "df=pd.read_csv('insurance.csv')\n",
    "df"
   ]
  },
  {
   "cell_type": "code",
   "execution_count": 4,
   "metadata": {},
   "outputs": [
    {
     "data": {
      "text/plain": [
       "<matplotlib.collections.PathCollection at 0x1d6acbe6070>"
      ]
     },
     "execution_count": 4,
     "metadata": {},
     "output_type": "execute_result"
    },
    {
     "data": {
      "image/png": "[encoded data removed]",
      "text/plain": [
       "<Figure size 432x288 with 1 Axes>"
      ]
     },
     "metadata": {
      "needs_background": "light"
     },
     "output_type": "display_data"
    }
   ],
   "source": [
    "plt.scatter(df.age, df.buy_insurance, marker='+', color='red')"
   ]
  },
  {
   "cell_type": "code",
   "execution_count": 8,
   "metadata": {},
   "outputs": [],
   "source": [
    "from sklearn.model_selection import train_test_split"
   ]
  },
  {
   "cell_type": "code",
   "execution_count": 17,
   "metadata": {},
   "outputs": [],
   "source": [
    "x_train,x_test,y_train,y_test=train_test_split(df[['age']], df.buy_insurance, test_size=0.9)"
   ]
  },
  {
   "cell_type": "code",
   "execution_count": 25,
   "metadata": {},
   "outputs": [
    {
     "data": {
      "text/html": [
       "<div>\n",
       "<style scoped>\n",
       "    .dataframe tbody tr th:only-of-type {\n",
       "        vertical-align: middle;\n",
       "    }\n",
       "\n",
       "    .dataframe tbody tr th {\n",
       "        vertical-align: top;\n",
       "    }\n",
       "\n",
       "    .dataframe thead th {\n",
       "        text-align: right;\n",
       "    }\n",
       "</style>\n",
       "<table border=\"1\" class=\"dataframe\">\n",
       "  <thead>\n",
       "    <tr style=\"text-align: right;\">\n",
       "      <th></th>\n",
       "      <th>age</th>\n",
       "    </tr>\n",
       "  </thead>\n",
       "  <tbody>\n",
       "    <tr>\n",
       "      <th>21</th>\n",
       "      <td>26</td>\n",
       "    </tr>\n",
       "    <tr>\n",
       "      <th>25</th>\n",
       "      <td>54</td>\n",
       "    </tr>\n",
       "  </tbody>\n",
       "</table>\n",
       "</div>"
      ],
      "text/plain": [
       "    age\n",
       "21   26\n",
       "25   54"
      ]
     },
     "execution_count": 25,
     "metadata": {},
     "output_type": "execute_result"
    }
   ],
   "source": [
    "x_train"
   ]
  },
  {
   "cell_type": "code",
   "execution_count": 19,
   "metadata": {},
   "outputs": [],
   "source": [
    "from sklearn.linear_model import LogisticRegression"
   ]
  },
  {
   "cell_type": "code",
   "execution_count": 20,
   "metadata": {},
   "outputs": [],
   "source": [
    "model = LogisticRegression()"
   ]
  },
  {
   "cell_type": "code",
   "execution_count": 21,
   "metadata": {},
   "outputs": [
    {
     "data": {
      "text/plain": [
       "LogisticRegression()"
      ]
     },
     "execution_count": 21,
     "metadata": {},
     "output_type": "execute_result"
    }
   ],
   "source": [
    "model.fit(x_train, y_train)"
   ]
  },
  {
   "cell_type": "code",
   "execution_count": 26,
   "metadata": {},
   "outputs": [
    {
     "data": {
      "text/plain": [
       "array([0, 1], dtype=int64)"
      ]
     },
     "execution_count": 26,
     "metadata": {},
     "output_type": "execute_result"
    }
   ],
   "source": [
    "model.predict(x_train)"
   ]
  },
  {
   "cell_type": "code",
   "execution_count": 38,
   "metadata": {},
   "outputs": [
    {
     "name": "stdout",
     "output_type": "stream",
     "text": [
      "Age: 1  will not buy insurance\n",
      "Age: 2  will not buy insurance\n",
      "Age: 3  will not buy insurance\n",
      "Age: 4  will not buy insurance\n",
      "Age: 5  will not buy insurance\n",
      "Age: 6  will not buy insurance\n",
      "Age: 7  will not buy insurance\n",
      "Age: 8  will not buy insurance\n",
      "Age: 9  will not buy insurance\n",
      "Age: 10  will not buy insurance\n",
      "Age: 11  will not buy insurance\n",
      "Age: 12  will not buy insurance\n",
      "Age: 13  will not buy insurance\n",
      "Age: 14  will not buy insurance\n",
      "Age: 15  will not buy insurance\n",
      "Age: 16  will not buy insurance\n",
      "Age: 17  will not buy insurance\n",
      "Age: 18  will not buy insurance\n",
      "Age: 19  will not buy insurance\n",
      "Age: 20  will not buy insurance\n",
      "Age: 21  will not buy insurance\n",
      "Age: 22  will not buy insurance\n",
      "Age: 23  will not buy insurance\n",
      "Age: 24  will not buy insurance\n",
      "Age: 25  will not buy insurance\n",
      "Age: 26  will not buy insurance\n",
      "Age: 27  will not buy insurance\n",
      "Age: 28  will not buy insurance\n",
      "Age: 29  will not buy insurance\n",
      "Age: 30  will not buy insurance\n",
      "Age: 31  will not buy insurance\n",
      "Age: 32  will not buy insurance\n",
      "Age: 33  will not buy insurance\n",
      "Age: 34  will not buy insurance\n",
      "Age: 35  will not buy insurance\n",
      "Age: 36  will not buy insurance\n",
      "Age: 37  will not buy insurance\n",
      "Age: 38  will not buy insurance\n",
      "Age: 39  will not buy insurance\n",
      "Age: 40 will buy insurance\n",
      "Age: 41 will buy insurance\n",
      "Age: 42 will buy insurance\n",
      "Age: 43 will buy insurance\n",
      "Age: 44 will buy insurance\n",
      "Age: 45 will buy insurance\n",
      "Age: 46 will buy insurance\n",
      "Age: 47 will buy insurance\n",
      "Age: 48 will buy insurance\n",
      "Age: 49 will buy insurance\n",
      "Age: 50 will buy insurance\n",
      "Age: 51 will buy insurance\n",
      "Age: 52 will buy insurance\n",
      "Age: 53 will buy insurance\n",
      "Age: 54 will buy insurance\n",
      "Age: 55 will buy insurance\n",
      "Age: 56 will buy insurance\n",
      "Age: 57 will buy insurance\n",
      "Age: 58 will buy insurance\n",
      "Age: 59 will buy insurance\n",
      "Age: 60 will buy insurance\n",
      "Age: 61 will buy insurance\n",
      "Age: 62 will buy insurance\n",
      "Age: 63 will buy insurance\n",
      "Age: 64 will buy insurance\n",
      "Age: 65 will buy insurance\n",
      "Age: 66 will buy insurance\n",
      "Age: 67 will buy insurance\n",
      "Age: 68 will buy insurance\n",
      "Age: 69 will buy insurance\n",
      "Age: 70 will buy insurance\n",
      "Age: 71 will buy insurance\n",
      "Age: 72 will buy insurance\n",
      "Age: 73 will buy insurance\n",
      "Age: 74 will buy insurance\n",
      "Age: 75 will buy insurance\n",
      "Age: 76 will buy insurance\n",
      "Age: 77 will buy insurance\n",
      "Age: 78 will buy insurance\n",
      "Age: 79 will buy insurance\n",
      "Age: 80 will buy insurance\n",
      "Age: 81 will buy insurance\n",
      "Age: 82 will buy insurance\n",
      "Age: 83 will buy insurance\n",
      "Age: 84 will buy insurance\n",
      "Age: 85 will buy insurance\n",
      "Age: 86 will buy insurance\n",
      "Age: 87 will buy insurance\n",
      "Age: 88 will buy insurance\n",
      "Age: 89 will buy insurance\n",
      "Age: 90 will buy insurance\n",
      "Age: 91 will buy insurance\n",
      "Age: 92 will buy insurance\n",
      "Age: 93 will buy insurance\n",
      "Age: 94 will buy insurance\n",
      "Age: 95 will buy insurance\n",
      "Age: 96 will buy insurance\n",
      "Age: 97 will buy insurance\n",
      "Age: 98 will buy insurance\n",
      "Age: 99 will buy insurance\n",
      "Age: 100 will buy insurance\n"
     ]
    }
   ],
   "source": [
    "#checking model for people aging from 1 to 100\n",
    "for i in range(1, 101):\n",
    "    if str(model.predict([[i]])) == '[0]':\n",
    "        print('Age:', i, ' will not buy insurance')\n",
    "    else:\n",
    "        print('Age:', i, 'will buy insurance')"
   ]
  },
  {
   "cell_type": "code",
   "execution_count": null,
   "metadata": {},
   "outputs": [],
   "source": []
  }
 ],
 "metadata": {
  "kernelspec": {
   "display_name": "Python 3",
   "language": "python",
   "name": "python3"
  },
  "language_info": {
   "codemirror_mode": {
    "name": "ipython",
    "version": 3
   },
   "file_extension": ".py",
   "mimetype": "text/x-python",
   "name": "python",
   "nbconvert_exporter": "python",
   "pygments_lexer": "ipython3",
   "version": "3.8.3"
  }
 },
 "nbformat": 4,
 "nbformat_minor": 4
}
