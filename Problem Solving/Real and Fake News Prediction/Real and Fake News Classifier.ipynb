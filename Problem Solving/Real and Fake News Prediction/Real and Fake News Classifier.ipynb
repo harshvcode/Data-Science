{
 "cells": [
  {
   "cell_type": "code",
   "execution_count": 2,
   "metadata": {
    "_cell_guid": "b1076dfc-b9ad-4769-8c92-a6c4dae69d19",
    "_uuid": "8f2839f25d086af736a60e9eeb907d3b93b6e0e5",
    "execution": {
     "iopub.execute_input": "2020-09-18T05:56:11.598419Z",
     "iopub.status.busy": "2020-09-18T05:56:11.597496Z",
     "iopub.status.idle": "2020-09-18T05:56:14.038305Z",
     "shell.execute_reply": "2020-09-18T05:56:14.037243Z"
    },
    "papermill": {
     "duration": 2.518044,
     "end_time": "2020-09-18T05:56:14.038481",
     "exception": false,
     "start_time": "2020-09-18T05:56:11.520437",
     "status": "completed"
    },
    "tags": []
   },
   "outputs": [],
   "source": [
    "import numpy as np\n",
    "import pandas as pd\n",
    "import matplotlib.pyplot as plt\n",
    "import seaborn as sns\n",
    "\n",
    "import nltk\n",
    "import re"
   ]
  },
  {
   "cell_type": "code",
   "execution_count": 3,
   "metadata": {
    "_cell_guid": "79c7e3d0-c299-4dcb-8224-4455121ee9b0",
    "_uuid": "d629ff2d2480ee46fbb7e2d37f6b5fab8052498a",
    "execution": {
     "iopub.execute_input": "2020-09-18T05:56:14.196984Z",
     "iopub.status.busy": "2020-09-18T05:56:14.196066Z",
     "iopub.status.idle": "2020-09-18T05:56:15.575996Z",
     "shell.execute_reply": "2020-09-18T05:56:15.575276Z"
    },
    "papermill": {
     "duration": 1.46722,
     "end_time": "2020-09-18T05:56:15.576180",
     "exception": false,
     "start_time": "2020-09-18T05:56:14.108960",
     "status": "completed"
    },
    "tags": []
   },
   "outputs": [],
   "source": [
    "real_data = pd.read_csv('True.csv')\n",
    "fake_data = pd.read_csv('Fake.csv')"
   ]
  },
  {
   "cell_type": "code",
   "execution_count": 4,
   "metadata": {
    "execution": {
     "iopub.execute_input": "2020-09-18T05:56:16.009536Z",
     "iopub.status.busy": "2020-09-18T05:56:16.008097Z",
     "iopub.status.idle": "2020-09-18T05:56:16.035141Z",
     "shell.execute_reply": "2020-09-18T05:56:16.033976Z"
    },
    "papermill": {
     "duration": 0.108354,
     "end_time": "2020-09-18T05:56:16.035323",
     "exception": false,
     "start_time": "2020-09-18T05:56:15.926969",
     "status": "completed"
    },
    "tags": []
   },
   "outputs": [
    {
     "data": {
      "text/html": [
       "<div>\n",
       "<style scoped>\n",
       "    .dataframe tbody tr th:only-of-type {\n",
       "        vertical-align: middle;\n",
       "    }\n",
       "\n",
       "    .dataframe tbody tr th {\n",
       "        vertical-align: top;\n",
       "    }\n",
       "\n",
       "    .dataframe thead th {\n",
       "        text-align: right;\n",
       "    }\n",
       "</style>\n",
       "<table border=\"1\" class=\"dataframe\">\n",
       "  <thead>\n",
       "    <tr style=\"text-align: right;\">\n",
       "      <th></th>\n",
       "      <th>title</th>\n",
       "      <th>text</th>\n",
       "      <th>subject</th>\n",
       "      <th>date</th>\n",
       "    </tr>\n",
       "  </thead>\n",
       "  <tbody>\n",
       "    <tr>\n",
       "      <th>0</th>\n",
       "      <td>As U.S. budget fight looms, Republicans flip t...</td>\n",
       "      <td>WASHINGTON (Reuters) - The head of a conservat...</td>\n",
       "      <td>politicsNews</td>\n",
       "      <td>December 31, 2017</td>\n",
       "    </tr>\n",
       "    <tr>\n",
       "      <th>1</th>\n",
       "      <td>U.S. military to accept transgender recruits o...</td>\n",
       "      <td>WASHINGTON (Reuters) - Transgender people will...</td>\n",
       "      <td>politicsNews</td>\n",
       "      <td>December 29, 2017</td>\n",
       "    </tr>\n",
       "    <tr>\n",
       "      <th>2</th>\n",
       "      <td>Senior U.S. Republican senator: 'Let Mr. Muell...</td>\n",
       "      <td>WASHINGTON (Reuters) - The special counsel inv...</td>\n",
       "      <td>politicsNews</td>\n",
       "      <td>December 31, 2017</td>\n",
       "    </tr>\n",
       "    <tr>\n",
       "      <th>3</th>\n",
       "      <td>FBI Russia probe helped by Australian diplomat...</td>\n",
       "      <td>WASHINGTON (Reuters) - Trump campaign adviser ...</td>\n",
       "      <td>politicsNews</td>\n",
       "      <td>December 30, 2017</td>\n",
       "    </tr>\n",
       "    <tr>\n",
       "      <th>4</th>\n",
       "      <td>Trump wants Postal Service to charge 'much mor...</td>\n",
       "      <td>SEATTLE/WASHINGTON (Reuters) - President Donal...</td>\n",
       "      <td>politicsNews</td>\n",
       "      <td>December 29, 2017</td>\n",
       "    </tr>\n",
       "  </tbody>\n",
       "</table>\n",
       "</div>"
      ],
      "text/plain": [
       "                                               title  \\\n",
       "0  As U.S. budget fight looms, Republicans flip t...   \n",
       "1  U.S. military to accept transgender recruits o...   \n",
       "2  Senior U.S. Republican senator: 'Let Mr. Muell...   \n",
       "3  FBI Russia probe helped by Australian diplomat...   \n",
       "4  Trump wants Postal Service to charge 'much mor...   \n",
       "\n",
       "                                                text       subject  \\\n",
       "0  WASHINGTON (Reuters) - The head of a conservat...  politicsNews   \n",
       "1  WASHINGTON (Reuters) - Transgender people will...  politicsNews   \n",
       "2  WASHINGTON (Reuters) - The special counsel inv...  politicsNews   \n",
       "3  WASHINGTON (Reuters) - Trump campaign adviser ...  politicsNews   \n",
       "4  SEATTLE/WASHINGTON (Reuters) - President Donal...  politicsNews   \n",
       "\n",
       "                 date  \n",
       "0  December 31, 2017   \n",
       "1  December 29, 2017   \n",
       "2  December 31, 2017   \n",
       "3  December 30, 2017   \n",
       "4  December 29, 2017   "
      ]
     },
     "execution_count": 4,
     "metadata": {},
     "output_type": "execute_result"
    }
   ],
   "source": [
    "real_data.head()"
   ]
  },
  {
   "cell_type": "code",
   "execution_count": 5,
   "metadata": {
    "execution": {
     "iopub.execute_input": "2020-09-18T05:56:16.195008Z",
     "iopub.status.busy": "2020-09-18T05:56:16.193747Z",
     "iopub.status.idle": "2020-09-18T05:56:16.199222Z",
     "shell.execute_reply": "2020-09-18T05:56:16.198557Z"
    },
    "papermill": {
     "duration": 0.090958,
     "end_time": "2020-09-18T05:56:16.199396",
     "exception": false,
     "start_time": "2020-09-18T05:56:16.108438",
     "status": "completed"
    },
    "tags": []
   },
   "outputs": [
    {
     "data": {
      "text/html": [
       "<div>\n",
       "<style scoped>\n",
       "    .dataframe tbody tr th:only-of-type {\n",
       "        vertical-align: middle;\n",
       "    }\n",
       "\n",
       "    .dataframe tbody tr th {\n",
       "        vertical-align: top;\n",
       "    }\n",
       "\n",
       "    .dataframe thead th {\n",
       "        text-align: right;\n",
       "    }\n",
       "</style>\n",
       "<table border=\"1\" class=\"dataframe\">\n",
       "  <thead>\n",
       "    <tr style=\"text-align: right;\">\n",
       "      <th></th>\n",
       "      <th>title</th>\n",
       "      <th>text</th>\n",
       "      <th>subject</th>\n",
       "      <th>date</th>\n",
       "    </tr>\n",
       "  </thead>\n",
       "  <tbody>\n",
       "    <tr>\n",
       "      <th>0</th>\n",
       "      <td>Donald Trump Sends Out Embarrassing New Year’...</td>\n",
       "      <td>Donald Trump just couldn t wish all Americans ...</td>\n",
       "      <td>News</td>\n",
       "      <td>December 31, 2017</td>\n",
       "    </tr>\n",
       "    <tr>\n",
       "      <th>1</th>\n",
       "      <td>Drunk Bragging Trump Staffer Started Russian ...</td>\n",
       "      <td>House Intelligence Committee Chairman Devin Nu...</td>\n",
       "      <td>News</td>\n",
       "      <td>December 31, 2017</td>\n",
       "    </tr>\n",
       "    <tr>\n",
       "      <th>2</th>\n",
       "      <td>Sheriff David Clarke Becomes An Internet Joke...</td>\n",
       "      <td>On Friday, it was revealed that former Milwauk...</td>\n",
       "      <td>News</td>\n",
       "      <td>December 30, 2017</td>\n",
       "    </tr>\n",
       "    <tr>\n",
       "      <th>3</th>\n",
       "      <td>Trump Is So Obsessed He Even Has Obama’s Name...</td>\n",
       "      <td>On Christmas day, Donald Trump announced that ...</td>\n",
       "      <td>News</td>\n",
       "      <td>December 29, 2017</td>\n",
       "    </tr>\n",
       "    <tr>\n",
       "      <th>4</th>\n",
       "      <td>Pope Francis Just Called Out Donald Trump Dur...</td>\n",
       "      <td>Pope Francis used his annual Christmas Day mes...</td>\n",
       "      <td>News</td>\n",
       "      <td>December 25, 2017</td>\n",
       "    </tr>\n",
       "  </tbody>\n",
       "</table>\n",
       "</div>"
      ],
      "text/plain": [
       "                                               title  \\\n",
       "0   Donald Trump Sends Out Embarrassing New Year’...   \n",
       "1   Drunk Bragging Trump Staffer Started Russian ...   \n",
       "2   Sheriff David Clarke Becomes An Internet Joke...   \n",
       "3   Trump Is So Obsessed He Even Has Obama’s Name...   \n",
       "4   Pope Francis Just Called Out Donald Trump Dur...   \n",
       "\n",
       "                                                text subject  \\\n",
       "0  Donald Trump just couldn t wish all Americans ...    News   \n",
       "1  House Intelligence Committee Chairman Devin Nu...    News   \n",
       "2  On Friday, it was revealed that former Milwauk...    News   \n",
       "3  On Christmas day, Donald Trump announced that ...    News   \n",
       "4  Pope Francis used his annual Christmas Day mes...    News   \n",
       "\n",
       "                date  \n",
       "0  December 31, 2017  \n",
       "1  December 31, 2017  \n",
       "2  December 30, 2017  \n",
       "3  December 29, 2017  \n",
       "4  December 25, 2017  "
      ]
     },
     "execution_count": 5,
     "metadata": {},
     "output_type": "execute_result"
    }
   ],
   "source": [
    "fake_data.head()"
   ]
  },
  {
   "cell_type": "code",
   "execution_count": 6,
   "metadata": {
    "execution": {
     "iopub.execute_input": "2020-09-18T05:56:16.364432Z",
     "iopub.status.busy": "2020-09-18T05:56:16.361519Z",
     "iopub.status.idle": "2020-09-18T05:56:16.383791Z",
     "shell.execute_reply": "2020-09-18T05:56:16.382962Z"
    },
    "papermill": {
     "duration": 0.11165,
     "end_time": "2020-09-18T05:56:16.383934",
     "exception": false,
     "start_time": "2020-09-18T05:56:16.272284",
     "status": "completed"
    },
    "tags": []
   },
   "outputs": [
    {
     "name": "stdout",
     "output_type": "stream",
     "text": [
      "<class 'pandas.core.frame.DataFrame'>\n",
      "RangeIndex: 21417 entries, 0 to 21416\n",
      "Data columns (total 4 columns):\n",
      " #   Column   Non-Null Count  Dtype \n",
      "---  ------   --------------  ----- \n",
      " 0   title    21417 non-null  object\n",
      " 1   text     21417 non-null  object\n",
      " 2   subject  21417 non-null  object\n",
      " 3   date     21417 non-null  object\n",
      "dtypes: object(4)\n",
      "memory usage: 669.4+ KB\n"
     ]
    }
   ],
   "source": [
    "real_data.info()"
   ]
  },
  {
   "cell_type": "code",
   "execution_count": 7,
   "metadata": {
    "execution": {
     "iopub.execute_input": "2020-09-18T05:56:16.548769Z",
     "iopub.status.busy": "2020-09-18T05:56:16.547601Z",
     "iopub.status.idle": "2020-09-18T05:56:16.560082Z",
     "shell.execute_reply": "2020-09-18T05:56:16.559392Z"
    },
    "papermill": {
     "duration": 0.103332,
     "end_time": "2020-09-18T05:56:16.560222",
     "exception": false,
     "start_time": "2020-09-18T05:56:16.456890",
     "status": "completed"
    },
    "tags": []
   },
   "outputs": [
    {
     "name": "stdout",
     "output_type": "stream",
     "text": [
      "<class 'pandas.core.frame.DataFrame'>\n",
      "RangeIndex: 23481 entries, 0 to 23480\n",
      "Data columns (total 4 columns):\n",
      " #   Column   Non-Null Count  Dtype \n",
      "---  ------   --------------  ----- \n",
      " 0   title    23481 non-null  object\n",
      " 1   text     23481 non-null  object\n",
      " 2   subject  23481 non-null  object\n",
      " 3   date     23481 non-null  object\n",
      "dtypes: object(4)\n",
      "memory usage: 733.9+ KB\n"
     ]
    }
   ],
   "source": [
    "fake_data.info()"
   ]
  },
  {
   "cell_type": "code",
   "execution_count": 8,
   "metadata": {
    "execution": {
     "iopub.execute_input": "2020-09-18T05:56:16.712371Z",
     "iopub.status.busy": "2020-09-18T05:56:16.711574Z",
     "iopub.status.idle": "2020-09-18T05:56:16.715251Z",
     "shell.execute_reply": "2020-09-18T05:56:16.714398Z"
    },
    "papermill": {
     "duration": 0.083971,
     "end_time": "2020-09-18T05:56:16.715411",
     "exception": false,
     "start_time": "2020-09-18T05:56:16.631440",
     "status": "completed"
    },
    "tags": []
   },
   "outputs": [],
   "source": [
    "real_data['target'] = 1\n",
    "fake_data['target'] = 0 "
   ]
  },
  {
   "cell_type": "code",
   "execution_count": 9,
   "metadata": {
    "execution": {
     "iopub.execute_input": "2020-09-18T05:56:16.877721Z",
     "iopub.status.busy": "2020-09-18T05:56:16.876507Z",
     "iopub.status.idle": "2020-09-18T05:56:16.882161Z",
     "shell.execute_reply": "2020-09-18T05:56:16.881416Z"
    },
    "papermill": {
     "duration": 0.095288,
     "end_time": "2020-09-18T05:56:16.882326",
     "exception": false,
     "start_time": "2020-09-18T05:56:16.787038",
     "status": "completed"
    },
    "tags": []
   },
   "outputs": [
    {
     "data": {
      "text/html": [
       "<div>\n",
       "<style scoped>\n",
       "    .dataframe tbody tr th:only-of-type {\n",
       "        vertical-align: middle;\n",
       "    }\n",
       "\n",
       "    .dataframe tbody tr th {\n",
       "        vertical-align: top;\n",
       "    }\n",
       "\n",
       "    .dataframe thead th {\n",
       "        text-align: right;\n",
       "    }\n",
       "</style>\n",
       "<table border=\"1\" class=\"dataframe\">\n",
       "  <thead>\n",
       "    <tr style=\"text-align: right;\">\n",
       "      <th></th>\n",
       "      <th>title</th>\n",
       "      <th>text</th>\n",
       "      <th>subject</th>\n",
       "      <th>date</th>\n",
       "      <th>target</th>\n",
       "    </tr>\n",
       "  </thead>\n",
       "  <tbody>\n",
       "    <tr>\n",
       "      <th>23476</th>\n",
       "      <td>McPain: John McCain Furious That Iran Treated ...</td>\n",
       "      <td>21st Century Wire says As 21WIRE reported earl...</td>\n",
       "      <td>Middle-east</td>\n",
       "      <td>January 16, 2016</td>\n",
       "      <td>0</td>\n",
       "    </tr>\n",
       "    <tr>\n",
       "      <th>23477</th>\n",
       "      <td>JUSTICE? Yahoo Settles E-mail Privacy Class-ac...</td>\n",
       "      <td>21st Century Wire says It s a familiar theme. ...</td>\n",
       "      <td>Middle-east</td>\n",
       "      <td>January 16, 2016</td>\n",
       "      <td>0</td>\n",
       "    </tr>\n",
       "    <tr>\n",
       "      <th>23478</th>\n",
       "      <td>Sunnistan: US and Allied ‘Safe Zone’ Plan to T...</td>\n",
       "      <td>Patrick Henningsen  21st Century WireRemember ...</td>\n",
       "      <td>Middle-east</td>\n",
       "      <td>January 15, 2016</td>\n",
       "      <td>0</td>\n",
       "    </tr>\n",
       "    <tr>\n",
       "      <th>23479</th>\n",
       "      <td>How to Blow $700 Million: Al Jazeera America F...</td>\n",
       "      <td>21st Century Wire says Al Jazeera America will...</td>\n",
       "      <td>Middle-east</td>\n",
       "      <td>January 14, 2016</td>\n",
       "      <td>0</td>\n",
       "    </tr>\n",
       "    <tr>\n",
       "      <th>23480</th>\n",
       "      <td>10 U.S. Navy Sailors Held by Iranian Military ...</td>\n",
       "      <td>21st Century Wire says As 21WIRE predicted in ...</td>\n",
       "      <td>Middle-east</td>\n",
       "      <td>January 12, 2016</td>\n",
       "      <td>0</td>\n",
       "    </tr>\n",
       "  </tbody>\n",
       "</table>\n",
       "</div>"
      ],
      "text/plain": [
       "                                                   title  \\\n",
       "23476  McPain: John McCain Furious That Iran Treated ...   \n",
       "23477  JUSTICE? Yahoo Settles E-mail Privacy Class-ac...   \n",
       "23478  Sunnistan: US and Allied ‘Safe Zone’ Plan to T...   \n",
       "23479  How to Blow $700 Million: Al Jazeera America F...   \n",
       "23480  10 U.S. Navy Sailors Held by Iranian Military ...   \n",
       "\n",
       "                                                    text      subject  \\\n",
       "23476  21st Century Wire says As 21WIRE reported earl...  Middle-east   \n",
       "23477  21st Century Wire says It s a familiar theme. ...  Middle-east   \n",
       "23478  Patrick Henningsen  21st Century WireRemember ...  Middle-east   \n",
       "23479  21st Century Wire says Al Jazeera America will...  Middle-east   \n",
       "23480  21st Century Wire says As 21WIRE predicted in ...  Middle-east   \n",
       "\n",
       "                   date  target  \n",
       "23476  January 16, 2016       0  \n",
       "23477  January 16, 2016       0  \n",
       "23478  January 15, 2016       0  \n",
       "23479  January 14, 2016       0  \n",
       "23480  January 12, 2016       0  "
      ]
     },
     "execution_count": 9,
     "metadata": {},
     "output_type": "execute_result"
    }
   ],
   "source": [
    "fake_data.tail()"
   ]
  },
  {
   "cell_type": "code",
   "execution_count": 10,
   "metadata": {
    "execution": {
     "iopub.execute_input": "2020-09-18T05:56:17.044193Z",
     "iopub.status.busy": "2020-09-18T05:56:17.043350Z",
     "iopub.status.idle": "2020-09-18T05:56:17.062287Z",
     "shell.execute_reply": "2020-09-18T05:56:17.061248Z"
    },
    "papermill": {
     "duration": 0.10674,
     "end_time": "2020-09-18T05:56:17.062447",
     "exception": false,
     "start_time": "2020-09-18T05:56:16.955707",
     "status": "completed"
    },
    "tags": []
   },
   "outputs": [
    {
     "data": {
      "text/html": [
       "<div>\n",
       "<style scoped>\n",
       "    .dataframe tbody tr th:only-of-type {\n",
       "        vertical-align: middle;\n",
       "    }\n",
       "\n",
       "    .dataframe tbody tr th {\n",
       "        vertical-align: top;\n",
       "    }\n",
       "\n",
       "    .dataframe thead th {\n",
       "        text-align: right;\n",
       "    }\n",
       "</style>\n",
       "<table border=\"1\" class=\"dataframe\">\n",
       "  <thead>\n",
       "    <tr style=\"text-align: right;\">\n",
       "      <th></th>\n",
       "      <th>title</th>\n",
       "      <th>text</th>\n",
       "      <th>subject</th>\n",
       "      <th>date</th>\n",
       "      <th>target</th>\n",
       "    </tr>\n",
       "  </thead>\n",
       "  <tbody>\n",
       "    <tr>\n",
       "      <th>44893</th>\n",
       "      <td>McPain: John McCain Furious That Iran Treated ...</td>\n",
       "      <td>21st Century Wire says As 21WIRE reported earl...</td>\n",
       "      <td>Middle-east</td>\n",
       "      <td>January 16, 2016</td>\n",
       "      <td>0</td>\n",
       "    </tr>\n",
       "    <tr>\n",
       "      <th>44894</th>\n",
       "      <td>JUSTICE? Yahoo Settles E-mail Privacy Class-ac...</td>\n",
       "      <td>21st Century Wire says It s a familiar theme. ...</td>\n",
       "      <td>Middle-east</td>\n",
       "      <td>January 16, 2016</td>\n",
       "      <td>0</td>\n",
       "    </tr>\n",
       "    <tr>\n",
       "      <th>44895</th>\n",
       "      <td>Sunnistan: US and Allied ‘Safe Zone’ Plan to T...</td>\n",
       "      <td>Patrick Henningsen  21st Century WireRemember ...</td>\n",
       "      <td>Middle-east</td>\n",
       "      <td>January 15, 2016</td>\n",
       "      <td>0</td>\n",
       "    </tr>\n",
       "    <tr>\n",
       "      <th>44896</th>\n",
       "      <td>How to Blow $700 Million: Al Jazeera America F...</td>\n",
       "      <td>21st Century Wire says Al Jazeera America will...</td>\n",
       "      <td>Middle-east</td>\n",
       "      <td>January 14, 2016</td>\n",
       "      <td>0</td>\n",
       "    </tr>\n",
       "    <tr>\n",
       "      <th>44897</th>\n",
       "      <td>10 U.S. Navy Sailors Held by Iranian Military ...</td>\n",
       "      <td>21st Century Wire says As 21WIRE predicted in ...</td>\n",
       "      <td>Middle-east</td>\n",
       "      <td>January 12, 2016</td>\n",
       "      <td>0</td>\n",
       "    </tr>\n",
       "  </tbody>\n",
       "</table>\n",
       "</div>"
      ],
      "text/plain": [
       "                                                   title  \\\n",
       "44893  McPain: John McCain Furious That Iran Treated ...   \n",
       "44894  JUSTICE? Yahoo Settles E-mail Privacy Class-ac...   \n",
       "44895  Sunnistan: US and Allied ‘Safe Zone’ Plan to T...   \n",
       "44896  How to Blow $700 Million: Al Jazeera America F...   \n",
       "44897  10 U.S. Navy Sailors Held by Iranian Military ...   \n",
       "\n",
       "                                                    text      subject  \\\n",
       "44893  21st Century Wire says As 21WIRE reported earl...  Middle-east   \n",
       "44894  21st Century Wire says It s a familiar theme. ...  Middle-east   \n",
       "44895  Patrick Henningsen  21st Century WireRemember ...  Middle-east   \n",
       "44896  21st Century Wire says Al Jazeera America will...  Middle-east   \n",
       "44897  21st Century Wire says As 21WIRE predicted in ...  Middle-east   \n",
       "\n",
       "                   date  target  \n",
       "44893  January 16, 2016       0  \n",
       "44894  January 16, 2016       0  \n",
       "44895  January 15, 2016       0  \n",
       "44896  January 14, 2016       0  \n",
       "44897  January 12, 2016       0  "
      ]
     },
     "execution_count": 10,
     "metadata": {},
     "output_type": "execute_result"
    }
   ],
   "source": [
    "combine_data = pd.concat([real_data, fake_data], ignore_index=True, sort=False)\n",
    "combine_data.tail()"
   ]
  },
  {
   "cell_type": "code",
   "execution_count": 11,
   "metadata": {
    "execution": {
     "iopub.execute_input": "2020-09-18T05:56:17.224476Z",
     "iopub.status.busy": "2020-09-18T05:56:17.223575Z",
     "iopub.status.idle": "2020-09-18T05:56:17.536118Z",
     "shell.execute_reply": "2020-09-18T05:56:17.534947Z"
    },
    "papermill": {
     "duration": 0.397821,
     "end_time": "2020-09-18T05:56:17.536315",
     "exception": false,
     "start_time": "2020-09-18T05:56:17.138494",
     "status": "completed"
    },
    "tags": []
   },
   "outputs": [
    {
     "data": {
      "text/plain": [
       "Text(0.5, 1.0, 'Data distribution of fake and real data')"
      ]
     },
     "execution_count": 11,
     "metadata": {},
     "output_type": "execute_result"
    },
    {
     "data": {
      "image/png": "[encoded data removed]",
      "text/plain": [
       "<Figure size 504x504 with 1 Axes>"
      ]
     },
     "metadata": {
      "needs_background": "light"
     },
     "output_type": "display_data"
    }
   ],
   "source": [
    "plt.figure(figsize=(7, 7))\n",
    "sns.set(style=\"darkgrid\")\n",
    "\n",
    "color = sns.color_palette(\"Set2\")\n",
    "ax = sns.countplot(x=\"target\", data=combine_data, palette=color)\n",
    "\n",
    "ax.set(xticklabels=['fake', 'real'])\n",
    "\n",
    "plt.title(\"Data distribution of fake and real data\")"
   ]
  },
  {
   "cell_type": "code",
   "execution_count": 12,
   "metadata": {
    "execution": {
     "iopub.execute_input": "2020-09-18T05:56:17.718834Z",
     "iopub.status.busy": "2020-09-18T05:56:17.717432Z",
     "iopub.status.idle": "2020-09-18T05:56:18.184189Z",
     "shell.execute_reply": "2020-09-18T05:56:18.183074Z"
    },
    "papermill": {
     "duration": 0.563922,
     "end_time": "2020-09-18T05:56:18.184360",
     "exception": false,
     "start_time": "2020-09-18T05:56:17.620438",
     "status": "completed"
    },
    "tags": []
   },
   "outputs": [
    {
     "data": {
      "text/plain": [
       "Text(0.5, 1.0, 'Data distribution of fake and real data')"
      ]
     },
     "execution_count": 12,
     "metadata": {},
     "output_type": "execute_result"
    },
    {
     "data": {
      "image/png": "[encoded data removed]",
      "text/plain": [
       "<Figure size 1080x720 with 1 Axes>"
      ]
     },
     "metadata": {},
     "output_type": "display_data"
    }
   ],
   "source": [
    "plt.figure(figsize=(15, 10))\n",
    "sns.set(style=\"darkgrid\")\n",
    "\n",
    "color = sns.color_palette(\"Set2\")\n",
    "ax = sns.countplot(x=\"subject\",  hue='target', data=combine_data, palette=color)\n",
    "\n",
    "# ax.set(xticklabels=['fake', 'real'])\n",
    "\n",
    "plt.title(\"Data distribution of fake and real data\")"
   ]
  },
  {
   "cell_type": "code",
   "execution_count": 13,
   "metadata": {
    "execution": {
     "iopub.execute_input": "2020-09-18T05:56:18.394598Z",
     "iopub.status.busy": "2020-09-18T05:56:18.393485Z",
     "iopub.status.idle": "2020-09-18T05:56:18.405085Z",
     "shell.execute_reply": "2020-09-18T05:56:18.404124Z"
    },
    "papermill": {
     "duration": 0.139208,
     "end_time": "2020-09-18T05:56:18.405246",
     "exception": false,
     "start_time": "2020-09-18T05:56:18.266038",
     "status": "completed"
    },
    "tags": []
   },
   "outputs": [
    {
     "data": {
      "text/plain": [
       "title      0\n",
       "text       0\n",
       "subject    0\n",
       "date       0\n",
       "target     0\n",
       "dtype: int64"
      ]
     },
     "execution_count": 13,
     "metadata": {},
     "output_type": "execute_result"
    }
   ],
   "source": [
    "combine_data.isnull().sum()"
   ]
  },
  {
   "cell_type": "markdown",
   "metadata": {
    "papermill": {
     "duration": 0.078232,
     "end_time": "2020-09-18T05:56:18.565037",
     "exception": false,
     "start_time": "2020-09-18T05:56:18.486805",
     "status": "completed"
    },
    "tags": []
   },
   "source": [
    "## Data Cleaning"
   ]
  },
  {
   "cell_type": "code",
   "execution_count": 13,
   "metadata": {
    "execution": {
     "iopub.execute_input": "2020-09-18T05:56:18.733533Z",
     "iopub.status.busy": "2020-09-18T05:56:18.732337Z",
     "iopub.status.idle": "2020-09-18T05:56:18.736029Z",
     "shell.execute_reply": "2020-09-18T05:56:18.735137Z"
    },
    "papermill": {
     "duration": 0.091354,
     "end_time": "2020-09-18T05:56:18.736222",
     "exception": false,
     "start_time": "2020-09-18T05:56:18.644868",
     "status": "completed"
    },
    "tags": []
   },
   "outputs": [],
   "source": [
    "import re"
   ]
  },
  {
   "cell_type": "code",
   "execution_count": 14,
   "metadata": {
    "execution": {
     "iopub.execute_input": "2020-09-18T05:56:18.905178Z",
     "iopub.status.busy": "2020-09-18T05:56:18.904034Z",
     "iopub.status.idle": "2020-09-18T05:56:18.908847Z",
     "shell.execute_reply": "2020-09-18T05:56:18.907990Z"
    },
    "papermill": {
     "duration": 0.091845,
     "end_time": "2020-09-18T05:56:18.909024",
     "exception": false,
     "start_time": "2020-09-18T05:56:18.817179",
     "status": "completed"
    },
    "tags": []
   },
   "outputs": [],
   "source": [
    "def clean_train_data(x):\n",
    "    text = x\n",
    "    text = text.lower()\n",
    "    text = re.sub('\\[.*?\\]', '', text) # remove square brackets\n",
    "    text = re.sub(r'[^\\w\\s]','',text) # remove punctuation\n",
    "    text = re.sub('\\w*\\d\\w*', '', text) # remove words containing numbers\n",
    "    text = re.sub(r'http\\S+', '', text)\n",
    "    text = re.sub('\\n', '', text)\n",
    "    return text"
   ]
  },
  {
   "cell_type": "code",
   "execution_count": 15,
   "metadata": {
    "execution": {
     "iopub.execute_input": "2020-09-18T05:56:19.081105Z",
     "iopub.status.busy": "2020-09-18T05:56:19.080271Z",
     "iopub.status.idle": "2020-09-18T05:57:01.198098Z",
     "shell.execute_reply": "2020-09-18T05:57:01.198859Z"
    },
    "papermill": {
     "duration": 42.209775,
     "end_time": "2020-09-18T05:57:01.199077",
     "exception": false,
     "start_time": "2020-09-18T05:56:18.989302",
     "status": "completed"
    },
    "tags": []
   },
   "outputs": [
    {
     "data": {
      "text/html": [
       "<div>\n",
       "<style scoped>\n",
       "    .dataframe tbody tr th:only-of-type {\n",
       "        vertical-align: middle;\n",
       "    }\n",
       "\n",
       "    .dataframe tbody tr th {\n",
       "        vertical-align: top;\n",
       "    }\n",
       "\n",
       "    .dataframe thead th {\n",
       "        text-align: right;\n",
       "    }\n",
       "</style>\n",
       "<table border=\"1\" class=\"dataframe\">\n",
       "  <thead>\n",
       "    <tr style=\"text-align: right;\">\n",
       "      <th></th>\n",
       "      <th>title</th>\n",
       "      <th>text</th>\n",
       "      <th>subject</th>\n",
       "      <th>date</th>\n",
       "      <th>target</th>\n",
       "    </tr>\n",
       "  </thead>\n",
       "  <tbody>\n",
       "    <tr>\n",
       "      <th>0</th>\n",
       "      <td>As U.S. budget fight looms, Republicans flip t...</td>\n",
       "      <td>washington reuters  the head of a conservative...</td>\n",
       "      <td>politicsNews</td>\n",
       "      <td>December 31, 2017</td>\n",
       "      <td>1</td>\n",
       "    </tr>\n",
       "    <tr>\n",
       "      <th>1</th>\n",
       "      <td>U.S. military to accept transgender recruits o...</td>\n",
       "      <td>washington reuters  transgender people will be...</td>\n",
       "      <td>politicsNews</td>\n",
       "      <td>December 29, 2017</td>\n",
       "      <td>1</td>\n",
       "    </tr>\n",
       "    <tr>\n",
       "      <th>2</th>\n",
       "      <td>Senior U.S. Republican senator: 'Let Mr. Muell...</td>\n",
       "      <td>washington reuters  the special counsel invest...</td>\n",
       "      <td>politicsNews</td>\n",
       "      <td>December 31, 2017</td>\n",
       "      <td>1</td>\n",
       "    </tr>\n",
       "    <tr>\n",
       "      <th>3</th>\n",
       "      <td>FBI Russia probe helped by Australian diplomat...</td>\n",
       "      <td>washington reuters  trump campaign adviser geo...</td>\n",
       "      <td>politicsNews</td>\n",
       "      <td>December 30, 2017</td>\n",
       "      <td>1</td>\n",
       "    </tr>\n",
       "    <tr>\n",
       "      <th>4</th>\n",
       "      <td>Trump wants Postal Service to charge 'much mor...</td>\n",
       "      <td>seattlewashington reuters  president donald tr...</td>\n",
       "      <td>politicsNews</td>\n",
       "      <td>December 29, 2017</td>\n",
       "      <td>1</td>\n",
       "    </tr>\n",
       "  </tbody>\n",
       "</table>\n",
       "</div>"
      ],
      "text/plain": [
       "                                               title  \\\n",
       "0  As U.S. budget fight looms, Republicans flip t...   \n",
       "1  U.S. military to accept transgender recruits o...   \n",
       "2  Senior U.S. Republican senator: 'Let Mr. Muell...   \n",
       "3  FBI Russia probe helped by Australian diplomat...   \n",
       "4  Trump wants Postal Service to charge 'much mor...   \n",
       "\n",
       "                                                text       subject  \\\n",
       "0  washington reuters  the head of a conservative...  politicsNews   \n",
       "1  washington reuters  transgender people will be...  politicsNews   \n",
       "2  washington reuters  the special counsel invest...  politicsNews   \n",
       "3  washington reuters  trump campaign adviser geo...  politicsNews   \n",
       "4  seattlewashington reuters  president donald tr...  politicsNews   \n",
       "\n",
       "                 date  target  \n",
       "0  December 31, 2017        1  \n",
       "1  December 29, 2017        1  \n",
       "2  December 31, 2017        1  \n",
       "3  December 30, 2017        1  \n",
       "4  December 29, 2017        1  "
      ]
     },
     "execution_count": 15,
     "metadata": {},
     "output_type": "execute_result"
    }
   ],
   "source": [
    "clean_combine_data = combine_data.copy()\n",
    "clean_combine_data['text'] = combine_data.text.apply(lambda x : clean_train_data(x))\n",
    "clean_combine_data.head()"
   ]
  },
  {
   "cell_type": "code",
   "execution_count": 16,
   "metadata": {
    "execution": {
     "iopub.execute_input": "2020-09-18T05:57:01.374396Z",
     "iopub.status.busy": "2020-09-18T05:57:01.373445Z",
     "iopub.status.idle": "2020-09-18T05:57:01.380102Z",
     "shell.execute_reply": "2020-09-18T05:57:01.378830Z"
    },
    "papermill": {
     "duration": 0.099501,
     "end_time": "2020-09-18T05:57:01.380320",
     "exception": false,
     "start_time": "2020-09-18T05:57:01.280819",
     "status": "completed"
    },
    "tags": []
   },
   "outputs": [
    {
     "data": {
      "text/html": [
       "<div>\n",
       "<style scoped>\n",
       "    .dataframe tbody tr th:only-of-type {\n",
       "        vertical-align: middle;\n",
       "    }\n",
       "\n",
       "    .dataframe tbody tr th {\n",
       "        vertical-align: top;\n",
       "    }\n",
       "\n",
       "    .dataframe thead th {\n",
       "        text-align: right;\n",
       "    }\n",
       "</style>\n",
       "<table border=\"1\" class=\"dataframe\">\n",
       "  <thead>\n",
       "    <tr style=\"text-align: right;\">\n",
       "      <th></th>\n",
       "      <th>title</th>\n",
       "      <th>text</th>\n",
       "      <th>subject</th>\n",
       "      <th>date</th>\n",
       "      <th>target</th>\n",
       "    </tr>\n",
       "  </thead>\n",
       "  <tbody>\n",
       "    <tr>\n",
       "      <th>44893</th>\n",
       "      <td>McPain: John McCain Furious That Iran Treated ...</td>\n",
       "      <td>century wire says as  reported earlier this w...</td>\n",
       "      <td>Middle-east</td>\n",
       "      <td>January 16, 2016</td>\n",
       "      <td>0</td>\n",
       "    </tr>\n",
       "    <tr>\n",
       "      <th>44894</th>\n",
       "      <td>JUSTICE? Yahoo Settles E-mail Privacy Class-ac...</td>\n",
       "      <td>century wire says it s a familiar theme whene...</td>\n",
       "      <td>Middle-east</td>\n",
       "      <td>January 16, 2016</td>\n",
       "      <td>0</td>\n",
       "    </tr>\n",
       "    <tr>\n",
       "      <th>44895</th>\n",
       "      <td>Sunnistan: US and Allied ‘Safe Zone’ Plan to T...</td>\n",
       "      <td>patrick henningsen   century wireremember when...</td>\n",
       "      <td>Middle-east</td>\n",
       "      <td>January 15, 2016</td>\n",
       "      <td>0</td>\n",
       "    </tr>\n",
       "    <tr>\n",
       "      <th>44896</th>\n",
       "      <td>How to Blow $700 Million: Al Jazeera America F...</td>\n",
       "      <td>century wire says al jazeera america will go ...</td>\n",
       "      <td>Middle-east</td>\n",
       "      <td>January 14, 2016</td>\n",
       "      <td>0</td>\n",
       "    </tr>\n",
       "    <tr>\n",
       "      <th>44897</th>\n",
       "      <td>10 U.S. Navy Sailors Held by Iranian Military ...</td>\n",
       "      <td>century wire says as  predicted in its new ye...</td>\n",
       "      <td>Middle-east</td>\n",
       "      <td>January 12, 2016</td>\n",
       "      <td>0</td>\n",
       "    </tr>\n",
       "  </tbody>\n",
       "</table>\n",
       "</div>"
      ],
      "text/plain": [
       "                                                   title  \\\n",
       "44893  McPain: John McCain Furious That Iran Treated ...   \n",
       "44894  JUSTICE? Yahoo Settles E-mail Privacy Class-ac...   \n",
       "44895  Sunnistan: US and Allied ‘Safe Zone’ Plan to T...   \n",
       "44896  How to Blow $700 Million: Al Jazeera America F...   \n",
       "44897  10 U.S. Navy Sailors Held by Iranian Military ...   \n",
       "\n",
       "                                                    text      subject  \\\n",
       "44893   century wire says as  reported earlier this w...  Middle-east   \n",
       "44894   century wire says it s a familiar theme whene...  Middle-east   \n",
       "44895  patrick henningsen   century wireremember when...  Middle-east   \n",
       "44896   century wire says al jazeera america will go ...  Middle-east   \n",
       "44897   century wire says as  predicted in its new ye...  Middle-east   \n",
       "\n",
       "                   date  target  \n",
       "44893  January 16, 2016       0  \n",
       "44894  January 16, 2016       0  \n",
       "44895  January 15, 2016       0  \n",
       "44896  January 14, 2016       0  \n",
       "44897  January 12, 2016       0  "
      ]
     },
     "execution_count": 16,
     "metadata": {},
     "output_type": "execute_result"
    }
   ],
   "source": [
    "clean_combine_data.tail()"
   ]
  },
  {
   "cell_type": "markdown",
   "metadata": {
    "papermill": {
     "duration": 0.085396,
     "end_time": "2020-09-18T05:57:01.905429",
     "exception": false,
     "start_time": "2020-09-18T05:57:01.820033",
     "status": "completed"
    },
    "tags": []
   },
   "source": [
    "## Stopword Removal"
   ]
  },
  {
   "cell_type": "code",
   "execution_count": 19,
   "metadata": {
    "execution": {
     "iopub.execute_input": "2020-09-18T05:57:02.076524Z",
     "iopub.status.busy": "2020-09-18T05:57:02.075509Z",
     "iopub.status.idle": "2020-09-18T05:57:02.088335Z",
     "shell.execute_reply": "2020-09-18T05:57:02.087468Z"
    },
    "papermill": {
     "duration": 0.101058,
     "end_time": "2020-09-18T05:57:02.088510",
     "exception": false,
     "start_time": "2020-09-18T05:57:01.987452",
     "status": "completed"
    },
    "tags": []
   },
   "outputs": [],
   "source": [
    "eng_stopwords = nltk.corpus.stopwords.words(\"english\")"
   ]
  },
  {
   "cell_type": "code",
   "execution_count": 20,
   "metadata": {
    "execution": {
     "iopub.execute_input": "2020-09-18T05:57:02.261135Z",
     "iopub.status.busy": "2020-09-18T05:57:02.260004Z",
     "iopub.status.idle": "2020-09-18T05:57:02.264354Z",
     "shell.execute_reply": "2020-09-18T05:57:02.263222Z"
    },
    "papermill": {
     "duration": 0.094592,
     "end_time": "2020-09-18T05:57:02.264569",
     "exception": false,
     "start_time": "2020-09-18T05:57:02.169977",
     "status": "completed"
    },
    "tags": []
   },
   "outputs": [],
   "source": [
    "def remove_eng_stopwords(text):\n",
    "    token_text = nltk.word_tokenize(text)\n",
    "    remove_stop = [word for word in token_text if word not in eng_stopwords]\n",
    "    join_text = ' '.join(remove_stop)\n",
    "    return join_text"
   ]
  },
  {
   "cell_type": "code",
   "execution_count": 21,
   "metadata": {
    "execution": {
     "iopub.execute_input": "2020-09-18T05:57:02.437288Z",
     "iopub.status.busy": "2020-09-18T05:57:02.436002Z",
     "iopub.status.idle": "2020-09-18T06:00:49.795154Z",
     "shell.execute_reply": "2020-09-18T06:00:49.795982Z"
    },
    "papermill": {
     "duration": 227.448145,
     "end_time": "2020-09-18T06:00:49.796197",
     "exception": false,
     "start_time": "2020-09-18T05:57:02.348052",
     "status": "completed"
    },
    "tags": []
   },
   "outputs": [
    {
     "data": {
      "text/html": [
       "<div>\n",
       "<style scoped>\n",
       "    .dataframe tbody tr th:only-of-type {\n",
       "        vertical-align: middle;\n",
       "    }\n",
       "\n",
       "    .dataframe tbody tr th {\n",
       "        vertical-align: top;\n",
       "    }\n",
       "\n",
       "    .dataframe thead th {\n",
       "        text-align: right;\n",
       "    }\n",
       "</style>\n",
       "<table border=\"1\" class=\"dataframe\">\n",
       "  <thead>\n",
       "    <tr style=\"text-align: right;\">\n",
       "      <th></th>\n",
       "      <th>title</th>\n",
       "      <th>text</th>\n",
       "      <th>subject</th>\n",
       "      <th>date</th>\n",
       "      <th>target</th>\n",
       "    </tr>\n",
       "  </thead>\n",
       "  <tbody>\n",
       "    <tr>\n",
       "      <th>0</th>\n",
       "      <td>As U.S. budget fight looms, Republicans flip t...</td>\n",
       "      <td>washington reuters head conservative republica...</td>\n",
       "      <td>politicsNews</td>\n",
       "      <td>December 31, 2017</td>\n",
       "      <td>1</td>\n",
       "    </tr>\n",
       "    <tr>\n",
       "      <th>1</th>\n",
       "      <td>U.S. military to accept transgender recruits o...</td>\n",
       "      <td>washington reuters transgender people allowed ...</td>\n",
       "      <td>politicsNews</td>\n",
       "      <td>December 29, 2017</td>\n",
       "      <td>1</td>\n",
       "    </tr>\n",
       "    <tr>\n",
       "      <th>2</th>\n",
       "      <td>Senior U.S. Republican senator: 'Let Mr. Muell...</td>\n",
       "      <td>washington reuters special counsel investigati...</td>\n",
       "      <td>politicsNews</td>\n",
       "      <td>December 31, 2017</td>\n",
       "      <td>1</td>\n",
       "    </tr>\n",
       "    <tr>\n",
       "      <th>3</th>\n",
       "      <td>FBI Russia probe helped by Australian diplomat...</td>\n",
       "      <td>washington reuters trump campaign adviser geor...</td>\n",
       "      <td>politicsNews</td>\n",
       "      <td>December 30, 2017</td>\n",
       "      <td>1</td>\n",
       "    </tr>\n",
       "    <tr>\n",
       "      <th>4</th>\n",
       "      <td>Trump wants Postal Service to charge 'much mor...</td>\n",
       "      <td>seattlewashington reuters president donald tru...</td>\n",
       "      <td>politicsNews</td>\n",
       "      <td>December 29, 2017</td>\n",
       "      <td>1</td>\n",
       "    </tr>\n",
       "  </tbody>\n",
       "</table>\n",
       "</div>"
      ],
      "text/plain": [
       "                                               title  \\\n",
       "0  As U.S. budget fight looms, Republicans flip t...   \n",
       "1  U.S. military to accept transgender recruits o...   \n",
       "2  Senior U.S. Republican senator: 'Let Mr. Muell...   \n",
       "3  FBI Russia probe helped by Australian diplomat...   \n",
       "4  Trump wants Postal Service to charge 'much mor...   \n",
       "\n",
       "                                                text       subject  \\\n",
       "0  washington reuters head conservative republica...  politicsNews   \n",
       "1  washington reuters transgender people allowed ...  politicsNews   \n",
       "2  washington reuters special counsel investigati...  politicsNews   \n",
       "3  washington reuters trump campaign adviser geor...  politicsNews   \n",
       "4  seattlewashington reuters president donald tru...  politicsNews   \n",
       "\n",
       "                 date  target  \n",
       "0  December 31, 2017        1  \n",
       "1  December 29, 2017        1  \n",
       "2  December 31, 2017        1  \n",
       "3  December 30, 2017        1  \n",
       "4  December 29, 2017        1  "
      ]
     },
     "execution_count": 21,
     "metadata": {},
     "output_type": "execute_result"
    }
   ],
   "source": [
    "stopword_combine_data = clean_combine_data.copy()\n",
    "stopword_combine_data['text'] = clean_combine_data.text.apply(lambda x : remove_eng_stopwords(x))\n",
    "stopword_combine_data.head()"
   ]
  },
  {
   "cell_type": "markdown",
   "metadata": {
    "papermill": {
     "duration": 0.092114,
     "end_time": "2020-09-18T06:00:50.132090",
     "exception": false,
     "start_time": "2020-09-18T06:00:50.039976",
     "status": "completed"
    },
    "tags": []
   },
   "source": [
    "## Find out common words"
   ]
  },
  {
   "cell_type": "code",
   "execution_count": 22,
   "metadata": {
    "execution": {
     "iopub.execute_input": "2020-09-18T06:00:50.309298Z",
     "iopub.status.busy": "2020-09-18T06:00:50.308409Z",
     "iopub.status.idle": "2020-09-18T06:00:50.312532Z",
     "shell.execute_reply": "2020-09-18T06:00:50.311847Z"
    },
    "papermill": {
     "duration": 0.095148,
     "end_time": "2020-09-18T06:00:50.312675",
     "exception": false,
     "start_time": "2020-09-18T06:00:50.217527",
     "status": "completed"
    },
    "tags": []
   },
   "outputs": [],
   "source": [
    "from itertools import chain\n",
    "from collections import Counter"
   ]
  },
  {
   "cell_type": "code",
   "execution_count": 23,
   "metadata": {
    "execution": {
     "iopub.execute_input": "2020-09-18T06:00:50.507741Z",
     "iopub.status.busy": "2020-09-18T06:00:50.490952Z",
     "iopub.status.idle": "2020-09-18T06:01:15.539985Z",
     "shell.execute_reply": "2020-09-18T06:01:15.539106Z"
    },
    "papermill": {
     "duration": 25.148624,
     "end_time": "2020-09-18T06:01:15.540154",
     "exception": false,
     "start_time": "2020-09-18T06:00:50.391530",
     "status": "completed"
    },
    "tags": []
   },
   "outputs": [
    {
     "data": {
      "text/html": [
       "<div>\n",
       "<style scoped>\n",
       "    .dataframe tbody tr th:only-of-type {\n",
       "        vertical-align: middle;\n",
       "    }\n",
       "\n",
       "    .dataframe tbody tr th {\n",
       "        vertical-align: top;\n",
       "    }\n",
       "\n",
       "    .dataframe thead th {\n",
       "        text-align: right;\n",
       "    }\n",
       "</style>\n",
       "<table border=\"1\" class=\"dataframe\">\n",
       "  <thead>\n",
       "    <tr style=\"text-align: right;\">\n",
       "      <th></th>\n",
       "      <th>index</th>\n",
       "      <th>count</th>\n",
       "    </tr>\n",
       "  </thead>\n",
       "  <tbody>\n",
       "    <tr>\n",
       "      <th>0</th>\n",
       "      <td>said</td>\n",
       "      <td>130051</td>\n",
       "    </tr>\n",
       "    <tr>\n",
       "      <th>1</th>\n",
       "      <td>trump</td>\n",
       "      <td>115869</td>\n",
       "    </tr>\n",
       "    <tr>\n",
       "      <th>2</th>\n",
       "      <td>us</td>\n",
       "      <td>63100</td>\n",
       "    </tr>\n",
       "    <tr>\n",
       "      <th>3</th>\n",
       "      <td>would</td>\n",
       "      <td>54929</td>\n",
       "    </tr>\n",
       "    <tr>\n",
       "      <th>4</th>\n",
       "      <td>president</td>\n",
       "      <td>51005</td>\n",
       "    </tr>\n",
       "  </tbody>\n",
       "</table>\n",
       "</div>"
      ],
      "text/plain": [
       "       index   count\n",
       "0       said  130051\n",
       "1      trump  115869\n",
       "2         us   63100\n",
       "3      would   54929\n",
       "4  president   51005"
      ]
     },
     "execution_count": 23,
     "metadata": {},
     "output_type": "execute_result"
    }
   ],
   "source": [
    "list_words = stopword_combine_data['text'].str.split()\n",
    "list_words_merge = list(chain(*list_words))\n",
    "\n",
    "d = Counter(list_words_merge)\n",
    "df = pd.DataFrame(data=d, index=['count'])\n",
    "top_common_words = df.T.sort_values(by=['count'], ascending=False).reset_index().head(50)\n",
    "top_common_words.head()"
   ]
  },
  {
   "cell_type": "code",
   "execution_count": 24,
   "metadata": {
    "execution": {
     "iopub.execute_input": "2020-09-18T06:01:15.722414Z",
     "iopub.status.busy": "2020-09-18T06:01:15.719699Z",
     "iopub.status.idle": "2020-09-18T06:01:17.069627Z",
     "shell.execute_reply": "2020-09-18T06:01:17.070288Z"
    },
    "papermill": {
     "duration": 1.444712,
     "end_time": "2020-09-18T06:01:17.070476",
     "exception": false,
     "start_time": "2020-09-18T06:01:15.625764",
     "status": "completed"
    },
    "tags": []
   },
   "outputs": [
    {
     "data": {
      "text/plain": [
       "(array([ 0,  1,  2,  3,  4,  5,  6,  7,  8,  9, 10, 11, 12, 13, 14, 15, 16,\n",
       "        17, 18, 19, 20, 21, 22, 23, 24, 25, 26, 27, 28, 29, 30, 31, 32, 33,\n",
       "        34, 35, 36, 37, 38, 39, 40, 41, 42, 43, 44, 45, 46, 47, 48, 49]),\n",
       " <a list of 50 Text major ticklabel objects>)"
      ]
     },
     "execution_count": 24,
     "metadata": {},
     "output_type": "execute_result"
    },
    {
     "data": {
      "image/png": "[encoded data removed]",
      "text/plain": [
       "<Figure size 1080x504 with 1 Axes>"
      ]
     },
     "metadata": {},
     "output_type": "display_data"
    }
   ],
   "source": [
    "plt.figure(figsize=(15,7))\n",
    "sns.set(style=\"darkgrid\")\n",
    "sns.barplot(x=\"index\", y='count', data=top_common_words)\n",
    "plt.xticks(rotation=90)"
   ]
  },
  {
   "cell_type": "markdown",
   "metadata": {
    "papermill": {
     "duration": 0.087211,
     "end_time": "2020-09-18T06:01:17.244460",
     "exception": false,
     "start_time": "2020-09-18T06:01:17.157249",
     "status": "completed"
    },
    "tags": []
   },
   "source": [
    "## Lemmatization"
   ]
  },
  {
   "cell_type": "code",
   "execution_count": 25,
   "metadata": {
    "execution": {
     "iopub.execute_input": "2020-09-18T06:01:17.510239Z",
     "iopub.status.busy": "2020-09-18T06:01:17.509164Z",
     "iopub.status.idle": "2020-09-18T06:01:17.512744Z",
     "shell.execute_reply": "2020-09-18T06:01:17.512071Z"
    },
    "papermill": {
     "duration": 0.097705,
     "end_time": "2020-09-18T06:01:17.512900",
     "exception": false,
     "start_time": "2020-09-18T06:01:17.415195",
     "status": "completed"
    },
    "tags": []
   },
   "outputs": [],
   "source": [
    "from nltk.stem import WordNetLemmatizer\n",
    "from sklearn.feature_extraction.text import TfidfVectorizer, CountVectorizer"
   ]
  },
  {
   "cell_type": "code",
   "execution_count": 26,
   "metadata": {
    "execution": {
     "iopub.execute_input": "2020-09-18T06:01:17.690711Z",
     "iopub.status.busy": "2020-09-18T06:01:17.689864Z",
     "iopub.status.idle": "2020-09-18T06:01:17.693374Z",
     "shell.execute_reply": "2020-09-18T06:01:17.694000Z"
    },
    "papermill": {
     "duration": 0.095717,
     "end_time": "2020-09-18T06:01:17.694178",
     "exception": false,
     "start_time": "2020-09-18T06:01:17.598461",
     "status": "completed"
    },
    "tags": []
   },
   "outputs": [],
   "source": [
    "lemm = WordNetLemmatizer()"
   ]
  },
  {
   "cell_type": "code",
   "execution_count": 27,
   "metadata": {
    "execution": {
     "iopub.execute_input": "2020-09-18T06:01:17.874765Z",
     "iopub.status.busy": "2020-09-18T06:01:17.873976Z",
     "iopub.status.idle": "2020-09-18T06:01:17.877306Z",
     "shell.execute_reply": "2020-09-18T06:01:17.876669Z"
    },
    "papermill": {
     "duration": 0.097001,
     "end_time": "2020-09-18T06:01:17.877447",
     "exception": false,
     "start_time": "2020-09-18T06:01:17.780446",
     "status": "completed"
    },
    "tags": []
   },
   "outputs": [],
   "source": [
    "def word_lemmatizer(text):\n",
    "    token_text = nltk.word_tokenize(text)\n",
    "    remove_stop = [lemm.lemmatize(w) for w in token_text]\n",
    "    join_text = ' '.join(remove_stop)\n",
    "    return join_text"
   ]
  },
  {
   "cell_type": "code",
   "execution_count": 28,
   "metadata": {
    "execution": {
     "iopub.execute_input": "2020-09-18T06:01:18.067964Z",
     "iopub.status.busy": "2020-09-18T06:01:18.066801Z",
     "iopub.status.idle": "2020-09-18T06:04:59.160557Z",
     "shell.execute_reply": "2020-09-18T06:04:59.161355Z"
    },
    "papermill": {
     "duration": 221.198918,
     "end_time": "2020-09-18T06:04:59.161571",
     "exception": false,
     "start_time": "2020-09-18T06:01:17.962653",
     "status": "completed"
    },
    "tags": []
   },
   "outputs": [
    {
     "data": {
      "text/html": [
       "<div>\n",
       "<style scoped>\n",
       "    .dataframe tbody tr th:only-of-type {\n",
       "        vertical-align: middle;\n",
       "    }\n",
       "\n",
       "    .dataframe tbody tr th {\n",
       "        vertical-align: top;\n",
       "    }\n",
       "\n",
       "    .dataframe thead th {\n",
       "        text-align: right;\n",
       "    }\n",
       "</style>\n",
       "<table border=\"1\" class=\"dataframe\">\n",
       "  <thead>\n",
       "    <tr style=\"text-align: right;\">\n",
       "      <th></th>\n",
       "      <th>title</th>\n",
       "      <th>text</th>\n",
       "      <th>subject</th>\n",
       "      <th>date</th>\n",
       "      <th>target</th>\n",
       "    </tr>\n",
       "  </thead>\n",
       "  <tbody>\n",
       "    <tr>\n",
       "      <th>0</th>\n",
       "      <td>As U.S. budget fight looms, Republicans flip t...</td>\n",
       "      <td>washington reuters head conservative republica...</td>\n",
       "      <td>politicsNews</td>\n",
       "      <td>December 31, 2017</td>\n",
       "      <td>1</td>\n",
       "    </tr>\n",
       "    <tr>\n",
       "      <th>1</th>\n",
       "      <td>U.S. military to accept transgender recruits o...</td>\n",
       "      <td>washington reuters transgender people allowed ...</td>\n",
       "      <td>politicsNews</td>\n",
       "      <td>December 29, 2017</td>\n",
       "      <td>1</td>\n",
       "    </tr>\n",
       "    <tr>\n",
       "      <th>2</th>\n",
       "      <td>Senior U.S. Republican senator: 'Let Mr. Muell...</td>\n",
       "      <td>washington reuters special counsel investigati...</td>\n",
       "      <td>politicsNews</td>\n",
       "      <td>December 31, 2017</td>\n",
       "      <td>1</td>\n",
       "    </tr>\n",
       "    <tr>\n",
       "      <th>3</th>\n",
       "      <td>FBI Russia probe helped by Australian diplomat...</td>\n",
       "      <td>washington reuters trump campaign adviser geor...</td>\n",
       "      <td>politicsNews</td>\n",
       "      <td>December 30, 2017</td>\n",
       "      <td>1</td>\n",
       "    </tr>\n",
       "    <tr>\n",
       "      <th>4</th>\n",
       "      <td>Trump wants Postal Service to charge 'much mor...</td>\n",
       "      <td>seattlewashington reuters president donald tru...</td>\n",
       "      <td>politicsNews</td>\n",
       "      <td>December 29, 2017</td>\n",
       "      <td>1</td>\n",
       "    </tr>\n",
       "  </tbody>\n",
       "</table>\n",
       "</div>"
      ],
      "text/plain": [
       "                                               title  \\\n",
       "0  As U.S. budget fight looms, Republicans flip t...   \n",
       "1  U.S. military to accept transgender recruits o...   \n",
       "2  Senior U.S. Republican senator: 'Let Mr. Muell...   \n",
       "3  FBI Russia probe helped by Australian diplomat...   \n",
       "4  Trump wants Postal Service to charge 'much mor...   \n",
       "\n",
       "                                                text       subject  \\\n",
       "0  washington reuters head conservative republica...  politicsNews   \n",
       "1  washington reuters transgender people allowed ...  politicsNews   \n",
       "2  washington reuters special counsel investigati...  politicsNews   \n",
       "3  washington reuters trump campaign adviser geor...  politicsNews   \n",
       "4  seattlewashington reuters president donald tru...  politicsNews   \n",
       "\n",
       "                 date  target  \n",
       "0  December 31, 2017        1  \n",
       "1  December 29, 2017        1  \n",
       "2  December 31, 2017        1  \n",
       "3  December 30, 2017        1  \n",
       "4  December 29, 2017        1  "
      ]
     },
     "execution_count": 28,
     "metadata": {},
     "output_type": "execute_result"
    }
   ],
   "source": [
    "lemmatize_data = stopword_combine_data.copy()\n",
    "lemmatize_data['text'] = stopword_combine_data.text.apply(lambda x : word_lemmatizer(x))\n",
    "lemmatize_data.head()"
   ]
  },
  {
   "cell_type": "markdown",
   "metadata": {
    "papermill": {
     "duration": 0.087665,
     "end_time": "2020-09-18T06:04:59.339742",
     "exception": false,
     "start_time": "2020-09-18T06:04:59.252077",
     "status": "completed"
    },
    "tags": []
   },
   "source": [
    "# N-Gram Analysis"
   ]
  },
  {
   "cell_type": "markdown",
   "metadata": {
    "papermill": {
     "duration": 0.083202,
     "end_time": "2020-09-18T06:04:59.510630",
     "exception": false,
     "start_time": "2020-09-18T06:04:59.427428",
     "status": "completed"
    },
    "tags": []
   },
   "source": [
    "---\n",
    "\n",
    "<center><img style=\"width: 700px;\" src=\"https://images.deepai.org/glossary-terms/867de904ba9b46869af29cead3194b6c/8ARA1.png\"></center>\n",
    "\n",
    "---\n",
    "<i>Source: Image from Google</i>"
   ]
  },
  {
   "cell_type": "code",
   "execution_count": 29,
   "metadata": {
    "execution": {
     "iopub.execute_input": "2020-09-18T06:04:59.902263Z",
     "iopub.status.busy": "2020-09-18T06:04:59.901447Z",
     "iopub.status.idle": "2020-09-18T06:04:59.904497Z",
     "shell.execute_reply": "2020-09-18T06:04:59.905060Z"
    },
    "papermill": {
     "duration": 0.306657,
     "end_time": "2020-09-18T06:04:59.905235",
     "exception": false,
     "start_time": "2020-09-18T06:04:59.598578",
     "status": "completed"
    },
    "tags": []
   },
   "outputs": [],
   "source": [
    "string = ' '.join(lemmatize_data['text'])"
   ]
  },
  {
   "cell_type": "code",
   "execution_count": 30,
   "metadata": {
    "execution": {
     "iopub.execute_input": "2020-09-18T06:05:01.447719Z",
     "iopub.status.busy": "2020-09-18T06:05:01.446466Z",
     "iopub.status.idle": "2020-09-18T06:05:01.450623Z",
     "shell.execute_reply": "2020-09-18T06:05:01.449609Z"
    },
    "papermill": {
     "duration": 1.454987,
     "end_time": "2020-09-18T06:05:01.450880",
     "exception": false,
     "start_time": "2020-09-18T06:04:59.995893",
     "status": "completed"
    },
    "tags": []
   },
   "outputs": [],
   "source": [
    "str_val = string.split(\" \")"
   ]
  },
  {
   "cell_type": "markdown",
   "metadata": {
    "papermill": {
     "duration": 0.106664,
     "end_time": "2020-09-18T06:05:01.686827",
     "exception": false,
     "start_time": "2020-09-18T06:05:01.580163",
     "status": "completed"
    },
    "tags": []
   },
   "source": [
    "## Unigram Analysis"
   ]
  },
  {
   "cell_type": "code",
   "execution_count": 31,
   "metadata": {
    "execution": {
     "iopub.execute_input": "2020-09-18T06:05:02.342996Z",
     "iopub.status.busy": "2020-09-18T06:05:02.337434Z",
     "iopub.status.idle": "2020-09-18T06:05:17.590955Z",
     "shell.execute_reply": "2020-09-18T06:05:17.590146Z"
    },
    "papermill": {
     "duration": 15.807607,
     "end_time": "2020-09-18T06:05:17.591100",
     "exception": false,
     "start_time": "2020-09-18T06:05:01.783493",
     "status": "completed"
    },
    "tags": []
   },
   "outputs": [],
   "source": [
    "data_unigram=(pd.Series(nltk.ngrams(str_val, 1)).value_counts())[:30]"
   ]
  },
  {
   "cell_type": "code",
   "execution_count": 32,
   "metadata": {
    "execution": {
     "iopub.execute_input": "2020-09-18T06:05:17.783351Z",
     "iopub.status.busy": "2020-09-18T06:05:17.772474Z",
     "iopub.status.idle": "2020-09-18T06:05:17.788264Z",
     "shell.execute_reply": "2020-09-18T06:05:17.787468Z"
    },
    "papermill": {
     "duration": 0.111887,
     "end_time": "2020-09-18T06:05:17.788405",
     "exception": false,
     "start_time": "2020-09-18T06:05:17.676518",
     "status": "completed"
    },
    "tags": []
   },
   "outputs": [
    {
     "data": {
      "text/html": [
       "<div>\n",
       "<style scoped>\n",
       "    .dataframe tbody tr th:only-of-type {\n",
       "        vertical-align: middle;\n",
       "    }\n",
       "\n",
       "    .dataframe tbody tr th {\n",
       "        vertical-align: top;\n",
       "    }\n",
       "\n",
       "    .dataframe thead th {\n",
       "        text-align: right;\n",
       "    }\n",
       "</style>\n",
       "<table border=\"1\" class=\"dataframe\">\n",
       "  <thead>\n",
       "    <tr style=\"text-align: right;\">\n",
       "      <th></th>\n",
       "      <th>key</th>\n",
       "      <th>value</th>\n",
       "    </tr>\n",
       "  </thead>\n",
       "  <tbody>\n",
       "    <tr>\n",
       "      <th>0</th>\n",
       "      <td>(said,)</td>\n",
       "      <td>130051</td>\n",
       "    </tr>\n",
       "    <tr>\n",
       "      <th>1</th>\n",
       "      <td>(trump,)</td>\n",
       "      <td>127942</td>\n",
       "    </tr>\n",
       "    <tr>\n",
       "      <th>2</th>\n",
       "      <td>(u,)</td>\n",
       "      <td>63394</td>\n",
       "    </tr>\n",
       "    <tr>\n",
       "      <th>3</th>\n",
       "      <td>(state,)</td>\n",
       "      <td>58301</td>\n",
       "    </tr>\n",
       "    <tr>\n",
       "      <th>4</th>\n",
       "      <td>(would,)</td>\n",
       "      <td>54929</td>\n",
       "    </tr>\n",
       "  </tbody>\n",
       "</table>\n",
       "</div>"
      ],
      "text/plain": [
       "        key   value\n",
       "0   (said,)  130051\n",
       "1  (trump,)  127942\n",
       "2      (u,)   63394\n",
       "3  (state,)   58301\n",
       "4  (would,)   54929"
      ]
     },
     "execution_count": 32,
     "metadata": {},
     "output_type": "execute_result"
    }
   ],
   "source": [
    "data_unigram_df=pd.DataFrame(data_unigram)\n",
    "data_unigram_df = data_unigram_df.reset_index()\n",
    "data_unigram_df = data_unigram_df.rename(columns={\"index\": \"key\", 0: \"value\"})\n",
    "data_unigram_df.head()"
   ]
  },
  {
   "cell_type": "code",
   "execution_count": 33,
   "metadata": {
    "execution": {
     "iopub.execute_input": "2020-09-18T06:05:17.973196Z",
     "iopub.status.busy": "2020-09-18T06:05:17.972372Z",
     "iopub.status.idle": "2020-09-18T06:05:18.585314Z",
     "shell.execute_reply": "2020-09-18T06:05:18.584461Z"
    },
    "papermill": {
     "duration": 0.706525,
     "end_time": "2020-09-18T06:05:18.585469",
     "exception": false,
     "start_time": "2020-09-18T06:05:17.878944",
     "status": "completed"
    },
    "tags": []
   },
   "outputs": [
    {
     "data": {
      "text/plain": [
       "<matplotlib.axes._subplots.AxesSubplot at 0x7f2304f60710>"
      ]
     },
     "execution_count": 33,
     "metadata": {},
     "output_type": "execute_result"
    },
    {
     "data": {
      "image/png": "[encoded data removed]",
      "text/plain": [
       "<Figure size 1152x648 with 1 Axes>"
      ]
     },
     "metadata": {},
     "output_type": "display_data"
    }
   ],
   "source": [
    "plt.figure(figsize = (16,9))\n",
    "sns.barplot(x='value',y='key', data=data_unigram_df)"
   ]
  },
  {
   "cell_type": "markdown",
   "metadata": {
    "papermill": {
     "duration": 0.092511,
     "end_time": "2020-09-18T06:05:18.770631",
     "exception": false,
     "start_time": "2020-09-18T06:05:18.678120",
     "status": "completed"
    },
    "tags": []
   },
   "source": [
    "## Bigram Analysis"
   ]
  },
  {
   "cell_type": "code",
   "execution_count": 34,
   "metadata": {
    "execution": {
     "iopub.execute_input": "2020-09-18T06:05:18.973238Z",
     "iopub.status.busy": "2020-09-18T06:05:18.968123Z",
     "iopub.status.idle": "2020-09-18T06:05:53.236761Z",
     "shell.execute_reply": "2020-09-18T06:05:53.236134Z"
    },
    "papermill": {
     "duration": 34.374792,
     "end_time": "2020-09-18T06:05:53.236938",
     "exception": false,
     "start_time": "2020-09-18T06:05:18.862146",
     "status": "completed"
    },
    "tags": []
   },
   "outputs": [],
   "source": [
    "data_bigram=(pd.Series(nltk.ngrams(str_val, 2)).value_counts())[:30]"
   ]
  },
  {
   "cell_type": "code",
   "execution_count": 35,
   "metadata": {
    "execution": {
     "iopub.execute_input": "2020-09-18T06:05:53.436737Z",
     "iopub.status.busy": "2020-09-18T06:05:53.435604Z",
     "iopub.status.idle": "2020-09-18T06:05:53.440906Z",
     "shell.execute_reply": "2020-09-18T06:05:53.441533Z"
    },
    "papermill": {
     "duration": 0.113434,
     "end_time": "2020-09-18T06:05:53.441759",
     "exception": false,
     "start_time": "2020-09-18T06:05:53.328325",
     "status": "completed"
    },
    "tags": []
   },
   "outputs": [
    {
     "data": {
      "text/html": [
       "<div>\n",
       "<style scoped>\n",
       "    .dataframe tbody tr th:only-of-type {\n",
       "        vertical-align: middle;\n",
       "    }\n",
       "\n",
       "    .dataframe tbody tr th {\n",
       "        vertical-align: top;\n",
       "    }\n",
       "\n",
       "    .dataframe thead th {\n",
       "        text-align: right;\n",
       "    }\n",
       "</style>\n",
       "<table border=\"1\" class=\"dataframe\">\n",
       "  <thead>\n",
       "    <tr style=\"text-align: right;\">\n",
       "      <th></th>\n",
       "      <th>key</th>\n",
       "      <th>value</th>\n",
       "    </tr>\n",
       "  </thead>\n",
       "  <tbody>\n",
       "    <tr>\n",
       "      <th>0</th>\n",
       "      <td>(donald, trump)</td>\n",
       "      <td>23216</td>\n",
       "    </tr>\n",
       "    <tr>\n",
       "      <th>1</th>\n",
       "      <td>(united, state)</td>\n",
       "      <td>18368</td>\n",
       "    </tr>\n",
       "    <tr>\n",
       "      <th>2</th>\n",
       "      <td>(white, house)</td>\n",
       "      <td>14672</td>\n",
       "    </tr>\n",
       "    <tr>\n",
       "      <th>3</th>\n",
       "      <td>(hillary, clinton)</td>\n",
       "      <td>9177</td>\n",
       "    </tr>\n",
       "    <tr>\n",
       "      <th>4</th>\n",
       "      <td>(new, york)</td>\n",
       "      <td>8624</td>\n",
       "    </tr>\n",
       "  </tbody>\n",
       "</table>\n",
       "</div>"
      ],
      "text/plain": [
       "                  key  value\n",
       "0     (donald, trump)  23216\n",
       "1     (united, state)  18368\n",
       "2      (white, house)  14672\n",
       "3  (hillary, clinton)   9177\n",
       "4         (new, york)   8624"
      ]
     },
     "execution_count": 35,
     "metadata": {},
     "output_type": "execute_result"
    }
   ],
   "source": [
    "data_bigram_df=pd.DataFrame(data_bigram)\n",
    "data_bigram_df = data_bigram_df.reset_index()\n",
    "data_bigram_df = data_bigram_df.rename(columns={\"index\": \"key\", 0: \"value\"})\n",
    "data_bigram_df.head()"
   ]
  },
  {
   "cell_type": "code",
   "execution_count": 36,
   "metadata": {
    "execution": {
     "iopub.execute_input": "2020-09-18T06:05:53.659907Z",
     "iopub.status.busy": "2020-09-18T06:05:53.637462Z",
     "iopub.status.idle": "2020-09-18T06:05:54.232450Z",
     "shell.execute_reply": "2020-09-18T06:05:54.231626Z"
    },
    "papermill": {
     "duration": 0.701662,
     "end_time": "2020-09-18T06:05:54.232588",
     "exception": false,
     "start_time": "2020-09-18T06:05:53.530926",
     "status": "completed"
    },
    "tags": []
   },
   "outputs": [
    {
     "data": {
      "text/plain": [
       "<matplotlib.axes._subplots.AxesSubplot at 0x7f2304fb2610>"
      ]
     },
     "execution_count": 36,
     "metadata": {},
     "output_type": "execute_result"
    },
    {
     "data": {
      "image/png": "[encoded data removed]",
      "text/plain": [
       "<Figure size 1152x648 with 1 Axes>"
      ]
     },
     "metadata": {},
     "output_type": "display_data"
    }
   ],
   "source": [
    "plt.figure(figsize = (16,9))\n",
    "sns.barplot(x='value',y='key', data=data_bigram_df)"
   ]
  },
  {
   "cell_type": "markdown",
   "metadata": {
    "papermill": {
     "duration": 0.092263,
     "end_time": "2020-09-18T06:05:54.421397",
     "exception": false,
     "start_time": "2020-09-18T06:05:54.329134",
     "status": "completed"
    },
    "tags": []
   },
   "source": [
    "## Trigram Analysis"
   ]
  },
  {
   "cell_type": "code",
   "execution_count": 37,
   "metadata": {
    "execution": {
     "iopub.execute_input": "2020-09-18T06:05:54.642587Z",
     "iopub.status.busy": "2020-09-18T06:05:54.631937Z",
     "iopub.status.idle": "2020-09-18T06:06:43.023215Z",
     "shell.execute_reply": "2020-09-18T06:06:43.023868Z"
    },
    "papermill": {
     "duration": 48.505954,
     "end_time": "2020-09-18T06:06:43.024055",
     "exception": false,
     "start_time": "2020-09-18T06:05:54.518101",
     "status": "completed"
    },
    "tags": []
   },
   "outputs": [],
   "source": [
    "data_trigram=(pd.Series(nltk.ngrams(str_val, 3)).value_counts())[:30]"
   ]
  },
  {
   "cell_type": "code",
   "execution_count": 38,
   "metadata": {
    "execution": {
     "iopub.execute_input": "2020-09-18T06:06:43.232185Z",
     "iopub.status.busy": "2020-09-18T06:06:43.221482Z",
     "iopub.status.idle": "2020-09-18T06:06:43.238608Z",
     "shell.execute_reply": "2020-09-18T06:06:43.237903Z"
    },
    "papermill": {
     "duration": 0.119467,
     "end_time": "2020-09-18T06:06:43.238752",
     "exception": false,
     "start_time": "2020-09-18T06:06:43.119285",
     "status": "completed"
    },
    "tags": []
   },
   "outputs": [
    {
     "data": {
      "text/html": [
       "<div>\n",
       "<style scoped>\n",
       "    .dataframe tbody tr th:only-of-type {\n",
       "        vertical-align: middle;\n",
       "    }\n",
       "\n",
       "    .dataframe tbody tr th {\n",
       "        vertical-align: top;\n",
       "    }\n",
       "\n",
       "    .dataframe thead th {\n",
       "        text-align: right;\n",
       "    }\n",
       "</style>\n",
       "<table border=\"1\" class=\"dataframe\">\n",
       "  <thead>\n",
       "    <tr style=\"text-align: right;\">\n",
       "      <th></th>\n",
       "      <th>key</th>\n",
       "      <th>value</th>\n",
       "    </tr>\n",
       "  </thead>\n",
       "  <tbody>\n",
       "    <tr>\n",
       "      <th>0</th>\n",
       "      <td>(president, donald, trump)</td>\n",
       "      <td>6732</td>\n",
       "    </tr>\n",
       "    <tr>\n",
       "      <th>1</th>\n",
       "      <td>(president, barack, obama)</td>\n",
       "      <td>2854</td>\n",
       "    </tr>\n",
       "    <tr>\n",
       "      <th>2</th>\n",
       "      <td>(u, president, donald)</td>\n",
       "      <td>2590</td>\n",
       "    </tr>\n",
       "    <tr>\n",
       "      <th>3</th>\n",
       "      <td>(washington, reuters, u)</td>\n",
       "      <td>2358</td>\n",
       "    </tr>\n",
       "    <tr>\n",
       "      <th>4</th>\n",
       "      <td>(donald, j, trump)</td>\n",
       "      <td>2146</td>\n",
       "    </tr>\n",
       "  </tbody>\n",
       "</table>\n",
       "</div>"
      ],
      "text/plain": [
       "                          key  value\n",
       "0  (president, donald, trump)   6732\n",
       "1  (president, barack, obama)   2854\n",
       "2      (u, president, donald)   2590\n",
       "3    (washington, reuters, u)   2358\n",
       "4          (donald, j, trump)   2146"
      ]
     },
     "execution_count": 38,
     "metadata": {},
     "output_type": "execute_result"
    }
   ],
   "source": [
    "data_trigram_df=pd.DataFrame(data_trigram)\n",
    "data_trigram_df = data_trigram_df.reset_index()\n",
    "data_trigram_df = data_trigram_df.rename(columns={\"index\": \"key\", 0: \"value\"})\n",
    "data_trigram_df.head()"
   ]
  },
  {
   "cell_type": "code",
   "execution_count": 39,
   "metadata": {
    "execution": {
     "iopub.execute_input": "2020-09-18T06:06:43.464350Z",
     "iopub.status.busy": "2020-09-18T06:06:43.463468Z",
     "iopub.status.idle": "2020-09-18T06:06:44.105819Z",
     "shell.execute_reply": "2020-09-18T06:06:44.106438Z"
    },
    "papermill": {
     "duration": 0.773739,
     "end_time": "2020-09-18T06:06:44.106612",
     "exception": false,
     "start_time": "2020-09-18T06:06:43.332873",
     "status": "completed"
    },
    "tags": []
   },
   "outputs": [
    {
     "data": {
      "text/plain": [
       "<matplotlib.axes._subplots.AxesSubplot at 0x7f2304fb3e90>"
      ]
     },
     "execution_count": 39,
     "metadata": {},
     "output_type": "execute_result"
    },
    {
     "data": {
      "image/png": "[encoded data removed]",
      "text/plain": [
       "<Figure size 1152x648 with 1 Axes>"
      ]
     },
     "metadata": {},
     "output_type": "display_data"
    }
   ],
   "source": [
    "plt.figure(figsize = (16,9))\n",
    "sns.barplot(x='value',y='key', data=data_trigram_df)"
   ]
  },
  {
   "cell_type": "markdown",
   "metadata": {
    "papermill": {
     "duration": 0.098375,
     "end_time": "2020-09-18T06:06:44.306193",
     "exception": false,
     "start_time": "2020-09-18T06:06:44.207818",
     "status": "completed"
    },
    "tags": []
   },
   "source": [
    "#### Wow they incredibly use Donald Trump too many times. What u think is this ok?"
   ]
  },
  {
   "cell_type": "markdown",
   "metadata": {
    "papermill": {
     "duration": 0.101188,
     "end_time": "2020-09-18T06:06:44.510207",
     "exception": false,
     "start_time": "2020-09-18T06:06:44.409019",
     "status": "completed"
    },
    "tags": []
   },
   "source": [
    "# Modeling"
   ]
  },
  {
   "cell_type": "code",
   "execution_count": 40,
   "metadata": {
    "execution": {
     "iopub.execute_input": "2020-09-18T06:06:44.726525Z",
     "iopub.status.busy": "2020-09-18T06:06:44.725713Z",
     "iopub.status.idle": "2020-09-18T06:06:44.729621Z",
     "shell.execute_reply": "2020-09-18T06:06:44.730190Z"
    },
    "papermill": {
     "duration": 0.117008,
     "end_time": "2020-09-18T06:06:44.730368",
     "exception": false,
     "start_time": "2020-09-18T06:06:44.613360",
     "status": "completed"
    },
    "tags": []
   },
   "outputs": [],
   "source": [
    "model_data = stopword_combine_data.copy()"
   ]
  },
  {
   "cell_type": "code",
   "execution_count": 41,
   "metadata": {
    "execution": {
     "iopub.execute_input": "2020-09-18T06:06:44.955535Z",
     "iopub.status.busy": "2020-09-18T06:06:44.944343Z",
     "iopub.status.idle": "2020-09-18T06:06:45.080002Z",
     "shell.execute_reply": "2020-09-18T06:06:45.079222Z"
    },
    "papermill": {
     "duration": 0.248996,
     "end_time": "2020-09-18T06:06:45.080147",
     "exception": false,
     "start_time": "2020-09-18T06:06:44.831151",
     "status": "completed"
    },
    "tags": []
   },
   "outputs": [
    {
     "data": {
      "text/html": [
       "<div>\n",
       "<style scoped>\n",
       "    .dataframe tbody tr th:only-of-type {\n",
       "        vertical-align: middle;\n",
       "    }\n",
       "\n",
       "    .dataframe tbody tr th {\n",
       "        vertical-align: top;\n",
       "    }\n",
       "\n",
       "    .dataframe thead th {\n",
       "        text-align: right;\n",
       "    }\n",
       "</style>\n",
       "<table border=\"1\" class=\"dataframe\">\n",
       "  <thead>\n",
       "    <tr style=\"text-align: right;\">\n",
       "      <th></th>\n",
       "      <th>target</th>\n",
       "      <th>combine_text</th>\n",
       "    </tr>\n",
       "  </thead>\n",
       "  <tbody>\n",
       "    <tr>\n",
       "      <th>0</th>\n",
       "      <td>1</td>\n",
       "      <td>politicsNews As U.S. budget fight looms, Repub...</td>\n",
       "    </tr>\n",
       "    <tr>\n",
       "      <th>1</th>\n",
       "      <td>1</td>\n",
       "      <td>politicsNews U.S. military to accept transgend...</td>\n",
       "    </tr>\n",
       "    <tr>\n",
       "      <th>2</th>\n",
       "      <td>1</td>\n",
       "      <td>politicsNews Senior U.S. Republican senator: '...</td>\n",
       "    </tr>\n",
       "    <tr>\n",
       "      <th>3</th>\n",
       "      <td>1</td>\n",
       "      <td>politicsNews FBI Russia probe helped by Austra...</td>\n",
       "    </tr>\n",
       "    <tr>\n",
       "      <th>4</th>\n",
       "      <td>1</td>\n",
       "      <td>politicsNews Trump wants Postal Service to cha...</td>\n",
       "    </tr>\n",
       "  </tbody>\n",
       "</table>\n",
       "</div>"
      ],
      "text/plain": [
       "   target                                       combine_text\n",
       "0       1  politicsNews As U.S. budget fight looms, Repub...\n",
       "1       1  politicsNews U.S. military to accept transgend...\n",
       "2       1  politicsNews Senior U.S. Republican senator: '...\n",
       "3       1  politicsNews FBI Russia probe helped by Austra...\n",
       "4       1  politicsNews Trump wants Postal Service to cha..."
      ]
     },
     "execution_count": 41,
     "metadata": {},
     "output_type": "execute_result"
    }
   ],
   "source": [
    "model_data['combine_text'] = model_data['subject'] + \" \" + model_data['title'] + \" \" + model_data['text']\n",
    "del model_data['title']\n",
    "del model_data['subject']\n",
    "del model_data['date']\n",
    "del model_data['text']\n",
    "model_data.head()"
   ]
  },
  {
   "cell_type": "code",
   "execution_count": 42,
   "metadata": {
    "execution": {
     "iopub.execute_input": "2020-09-18T06:06:45.291248Z",
     "iopub.status.busy": "2020-09-18T06:06:45.290411Z",
     "iopub.status.idle": "2020-09-18T06:06:45.294626Z",
     "shell.execute_reply": "2020-09-18T06:06:45.293948Z"
    },
    "papermill": {
     "duration": 0.112291,
     "end_time": "2020-09-18T06:06:45.294758",
     "exception": false,
     "start_time": "2020-09-18T06:06:45.182467",
     "status": "completed"
    },
    "tags": []
   },
   "outputs": [],
   "source": [
    "from sklearn.model_selection import train_test_split"
   ]
  },
  {
   "cell_type": "code",
   "execution_count": 43,
   "metadata": {
    "execution": {
     "iopub.execute_input": "2020-09-18T06:06:45.506075Z",
     "iopub.status.busy": "2020-09-18T06:06:45.504434Z",
     "iopub.status.idle": "2020-09-18T06:06:45.519253Z",
     "shell.execute_reply": "2020-09-18T06:06:45.517961Z"
    },
    "papermill": {
     "duration": 0.122823,
     "end_time": "2020-09-18T06:06:45.519448",
     "exception": false,
     "start_time": "2020-09-18T06:06:45.396625",
     "status": "completed"
    },
    "tags": []
   },
   "outputs": [],
   "source": [
    "X_train, X_test, y_train, y_test = train_test_split(model_data['combine_text'], model_data['target'], random_state=0)"
   ]
  },
  {
   "cell_type": "markdown",
   "metadata": {
    "papermill": {
     "duration": 0.102438,
     "end_time": "2020-09-18T06:06:45.725610",
     "exception": false,
     "start_time": "2020-09-18T06:06:45.623172",
     "status": "completed"
    },
    "tags": []
   },
   "source": [
    "# Bag of Words"
   ]
  },
  {
   "cell_type": "markdown",
   "metadata": {
    "papermill": {
     "duration": 0.101782,
     "end_time": "2020-09-18T06:06:45.930311",
     "exception": false,
     "start_time": "2020-09-18T06:06:45.828529",
     "status": "completed"
    },
    "tags": []
   },
   "source": [
    "---\n",
    "\n",
    "<center><img style=\"width: 700px;\" src=\"https://3.bp.blogspot.com/-4pxORQAgAFI/XMNZhEssXtI/AAAAAAAAGmA/SuQGsp-GyT4jKlUZieg_A5lnTza_GujfwCLcBGAs/s1600/bag_of_words.png\"></center>\n",
    "\n",
    "---\n",
    "<i>Source: Image from Google</i>"
   ]
  },
  {
   "cell_type": "markdown",
   "metadata": {
    "papermill": {
     "duration": 0.102712,
     "end_time": "2020-09-18T06:06:46.134249",
     "exception": false,
     "start_time": "2020-09-18T06:06:46.031537",
     "status": "completed"
    },
    "tags": []
   },
   "source": [
    "## Vectorizing"
   ]
  },
  {
   "cell_type": "code",
   "execution_count": 44,
   "metadata": {
    "execution": {
     "iopub.execute_input": "2020-09-18T06:06:46.345295Z",
     "iopub.status.busy": "2020-09-18T06:06:46.344447Z",
     "iopub.status.idle": "2020-09-18T06:06:46.348638Z",
     "shell.execute_reply": "2020-09-18T06:06:46.347632Z"
    },
    "papermill": {
     "duration": 0.112588,
     "end_time": "2020-09-18T06:06:46.348812",
     "exception": false,
     "start_time": "2020-09-18T06:06:46.236224",
     "status": "completed"
    },
    "tags": []
   },
   "outputs": [],
   "source": [
    "from sklearn.feature_extraction.text import CountVectorizer"
   ]
  },
  {
   "cell_type": "code",
   "execution_count": 45,
   "metadata": {
    "execution": {
     "iopub.execute_input": "2020-09-18T06:06:46.567859Z",
     "iopub.status.busy": "2020-09-18T06:06:46.562857Z",
     "iopub.status.idle": "2020-09-18T06:07:15.696377Z",
     "shell.execute_reply": "2020-09-18T06:07:15.695380Z"
    },
    "papermill": {
     "duration": 29.246245,
     "end_time": "2020-09-18T06:07:15.696532",
     "exception": false,
     "start_time": "2020-09-18T06:06:46.450287",
     "status": "completed"
    },
    "tags": []
   },
   "outputs": [],
   "source": [
    "vec_train = CountVectorizer().fit(X_train)\n",
    "X_vec_train = vec_train.transform(X_train)"
   ]
  },
  {
   "cell_type": "code",
   "execution_count": 46,
   "metadata": {
    "execution": {
     "iopub.execute_input": "2020-09-18T06:07:15.924692Z",
     "iopub.status.busy": "2020-09-18T06:07:15.919155Z",
     "iopub.status.idle": "2020-09-18T06:07:20.499186Z",
     "shell.execute_reply": "2020-09-18T06:07:20.498521Z"
    },
    "papermill": {
     "duration": 4.70098,
     "end_time": "2020-09-18T06:07:20.499340",
     "exception": false,
     "start_time": "2020-09-18T06:07:15.798360",
     "status": "completed"
    },
    "tags": []
   },
   "outputs": [],
   "source": [
    "X_vec_test = vec_train.transform(X_test)"
   ]
  },
  {
   "cell_type": "code",
   "execution_count": 47,
   "metadata": {
    "execution": {
     "iopub.execute_input": "2020-09-18T06:07:20.709812Z",
     "iopub.status.busy": "2020-09-18T06:07:20.709045Z",
     "iopub.status.idle": "2020-09-18T06:07:20.712850Z",
     "shell.execute_reply": "2020-09-18T06:07:20.712068Z"
    },
    "papermill": {
     "duration": 0.111362,
     "end_time": "2020-09-18T06:07:20.713009",
     "exception": false,
     "start_time": "2020-09-18T06:07:20.601647",
     "status": "completed"
    },
    "tags": []
   },
   "outputs": [],
   "source": [
    "from sklearn.linear_model import LogisticRegression\n",
    "from sklearn.metrics import roc_auc_score"
   ]
  },
  {
   "cell_type": "code",
   "execution_count": 48,
   "metadata": {
    "execution": {
     "iopub.execute_input": "2020-09-18T06:07:20.927201Z",
     "iopub.status.busy": "2020-09-18T06:07:20.926051Z",
     "iopub.status.idle": "2020-09-18T06:07:29.393906Z",
     "shell.execute_reply": "2020-09-18T06:07:29.394478Z"
    },
    "papermill": {
     "duration": 8.57668,
     "end_time": "2020-09-18T06:07:29.394660",
     "exception": false,
     "start_time": "2020-09-18T06:07:20.817980",
     "status": "completed"
    },
    "tags": []
   },
   "outputs": [
    {
     "data": {
      "text/plain": [
       "LogisticRegression()"
      ]
     },
     "execution_count": 48,
     "metadata": {},
     "output_type": "execute_result"
    }
   ],
   "source": [
    "model = LogisticRegression()\n",
    "model.fit(X_vec_train, y_train)"
   ]
  },
  {
   "cell_type": "code",
   "execution_count": 49,
   "metadata": {
    "execution": {
     "iopub.execute_input": "2020-09-18T06:07:29.606447Z",
     "iopub.status.busy": "2020-09-18T06:07:29.605567Z",
     "iopub.status.idle": "2020-09-18T06:07:29.623861Z",
     "shell.execute_reply": "2020-09-18T06:07:29.623124Z"
    },
    "papermill": {
     "duration": 0.127058,
     "end_time": "2020-09-18T06:07:29.624006",
     "exception": false,
     "start_time": "2020-09-18T06:07:29.496948",
     "status": "completed"
    },
    "tags": []
   },
   "outputs": [],
   "source": [
    "predicted_value = model.predict(X_vec_test)"
   ]
  },
  {
   "cell_type": "code",
   "execution_count": 50,
   "metadata": {
    "execution": {
     "iopub.execute_input": "2020-09-18T06:07:29.837869Z",
     "iopub.status.busy": "2020-09-18T06:07:29.837070Z",
     "iopub.status.idle": "2020-09-18T06:07:29.853510Z",
     "shell.execute_reply": "2020-09-18T06:07:29.852499Z"
    },
    "papermill": {
     "duration": 0.125715,
     "end_time": "2020-09-18T06:07:29.853672",
     "exception": false,
     "start_time": "2020-09-18T06:07:29.727957",
     "status": "completed"
    },
    "tags": []
   },
   "outputs": [
    {
     "name": "stdout",
     "output_type": "stream",
     "text": [
      "0.9985562606683752\n"
     ]
    }
   ],
   "source": [
    "accuracy_value = roc_auc_score(y_test, predicted_value)\n",
    "print(accuracy_value)"
   ]
  },
  {
   "cell_type": "markdown",
   "metadata": {
    "papermill": {
     "duration": 0.10467,
     "end_time": "2020-09-18T06:07:30.061400",
     "exception": false,
     "start_time": "2020-09-18T06:07:29.956730",
     "status": "completed"
    },
    "tags": []
   },
   "source": [
    "### ohh you see this result it is 99.86 means this title is almost real. but actually is it? u might be found somethings wrong in model execution. ok lets do some in modeling to do more reliable. "
   ]
  },
  {
   "cell_type": "markdown",
   "metadata": {
    "papermill": {
     "duration": 0.100596,
     "end_time": "2020-09-18T06:07:30.266302",
     "exception": false,
     "start_time": "2020-09-18T06:07:30.165706",
     "status": "completed"
    },
    "tags": []
   },
   "source": [
    "# Modeling -2"
   ]
  },
  {
   "cell_type": "code",
   "execution_count": 51,
   "metadata": {
    "execution": {
     "iopub.execute_input": "2020-09-18T06:07:30.569302Z",
     "iopub.status.busy": "2020-09-18T06:07:30.480067Z",
     "iopub.status.idle": "2020-09-18T06:07:30.603102Z",
     "shell.execute_reply": "2020-09-18T06:07:30.602302Z"
    },
    "papermill": {
     "duration": 0.234312,
     "end_time": "2020-09-18T06:07:30.603402",
     "exception": false,
     "start_time": "2020-09-18T06:07:30.369090",
     "status": "completed"
    },
    "tags": []
   },
   "outputs": [
    {
     "data": {
      "text/html": [
       "<div>\n",
       "<style scoped>\n",
       "    .dataframe tbody tr th:only-of-type {\n",
       "        vertical-align: middle;\n",
       "    }\n",
       "\n",
       "    .dataframe tbody tr th {\n",
       "        vertical-align: top;\n",
       "    }\n",
       "\n",
       "    .dataframe thead th {\n",
       "        text-align: right;\n",
       "    }\n",
       "</style>\n",
       "<table border=\"1\" class=\"dataframe\">\n",
       "  <thead>\n",
       "    <tr style=\"text-align: right;\">\n",
       "      <th></th>\n",
       "      <th>target</th>\n",
       "      <th>combine_text</th>\n",
       "    </tr>\n",
       "  </thead>\n",
       "  <tbody>\n",
       "    <tr>\n",
       "      <th>0</th>\n",
       "      <td>1</td>\n",
       "      <td>As U.S. budget fight looms, Republicans flip t...</td>\n",
       "    </tr>\n",
       "    <tr>\n",
       "      <th>1</th>\n",
       "      <td>1</td>\n",
       "      <td>U.S. military to accept transgender recruits o...</td>\n",
       "    </tr>\n",
       "    <tr>\n",
       "      <th>2</th>\n",
       "      <td>1</td>\n",
       "      <td>Senior U.S. Republican senator: 'Let Mr. Muell...</td>\n",
       "    </tr>\n",
       "    <tr>\n",
       "      <th>3</th>\n",
       "      <td>1</td>\n",
       "      <td>FBI Russia probe helped by Australian diplomat...</td>\n",
       "    </tr>\n",
       "    <tr>\n",
       "      <th>4</th>\n",
       "      <td>1</td>\n",
       "      <td>Trump wants Postal Service to charge 'much mor...</td>\n",
       "    </tr>\n",
       "  </tbody>\n",
       "</table>\n",
       "</div>"
      ],
      "text/plain": [
       "   target                                       combine_text\n",
       "0       1  As U.S. budget fight looms, Republicans flip t...\n",
       "1       1  U.S. military to accept transgender recruits o...\n",
       "2       1  Senior U.S. Republican senator: 'Let Mr. Muell...\n",
       "3       1  FBI Russia probe helped by Australian diplomat...\n",
       "4       1  Trump wants Postal Service to charge 'much mor..."
      ]
     },
     "execution_count": 51,
     "metadata": {},
     "output_type": "execute_result"
    }
   ],
   "source": [
    "model_2_data = lemmatize_data.copy()\n",
    "model_2_data['combine_text'] = model_2_data['title'] + \" \" + model_2_data['text']\n",
    "del model_2_data['title']\n",
    "del model_2_data['subject']\n",
    "del model_2_data['date']\n",
    "del model_2_data['text']\n",
    "model_2_data.head()"
   ]
  },
  {
   "cell_type": "code",
   "execution_count": 52,
   "metadata": {
    "execution": {
     "iopub.execute_input": "2020-09-18T06:07:30.819294Z",
     "iopub.status.busy": "2020-09-18T06:07:30.818438Z",
     "iopub.status.idle": "2020-09-18T06:07:30.836090Z",
     "shell.execute_reply": "2020-09-18T06:07:30.835112Z"
    },
    "papermill": {
     "duration": 0.128434,
     "end_time": "2020-09-18T06:07:30.836255",
     "exception": false,
     "start_time": "2020-09-18T06:07:30.707821",
     "status": "completed"
    },
    "tags": []
   },
   "outputs": [],
   "source": [
    "X_train, X_test, y_train, y_test = train_test_split(model_2_data['combine_text'], model_2_data['target'], test_size=0.33, random_state=0)"
   ]
  },
  {
   "cell_type": "code",
   "execution_count": 53,
   "metadata": {
    "execution": {
     "iopub.execute_input": "2020-09-18T06:07:31.067803Z",
     "iopub.status.busy": "2020-09-18T06:07:31.056556Z",
     "iopub.status.idle": "2020-09-18T06:08:02.731520Z",
     "shell.execute_reply": "2020-09-18T06:08:02.730669Z"
    },
    "papermill": {
     "duration": 31.793779,
     "end_time": "2020-09-18T06:08:02.731673",
     "exception": false,
     "start_time": "2020-09-18T06:07:30.937894",
     "status": "completed"
    },
    "tags": []
   },
   "outputs": [],
   "source": [
    "vec_train = CountVectorizer().fit(X_train)\n",
    "X_vec_train = vec_train.transform(X_train)\n",
    "X_vec_test = vec_train.transform(X_test)"
   ]
  },
  {
   "cell_type": "code",
   "execution_count": 54,
   "metadata": {
    "execution": {
     "iopub.execute_input": "2020-09-18T06:08:02.954358Z",
     "iopub.status.busy": "2020-09-18T06:08:02.953506Z",
     "iopub.status.idle": "2020-09-18T06:08:11.844455Z",
     "shell.execute_reply": "2020-09-18T06:08:11.843662Z"
    },
    "papermill": {
     "duration": 9.004596,
     "end_time": "2020-09-18T06:08:11.844619",
     "exception": false,
     "start_time": "2020-09-18T06:08:02.840023",
     "status": "completed"
    },
    "tags": []
   },
   "outputs": [
    {
     "name": "stderr",
     "output_type": "stream",
     "text": [
      "/opt/conda/lib/python3.7/site-packages/sklearn/linear_model/_logistic.py:764: ConvergenceWarning: lbfgs failed to converge (status=1):\n",
      "STOP: TOTAL NO. of ITERATIONS REACHED LIMIT.\n",
      "\n",
      "Increase the number of iterations (max_iter) or scale the data as shown in:\n",
      "    https://scikit-learn.org/stable/modules/preprocessing.html\n",
      "Please also refer to the documentation for alternative solver options:\n",
      "    https://scikit-learn.org/stable/modules/linear_model.html#logistic-regression\n",
      "  extra_warning_msg=_LOGISTIC_SOLVER_CONVERGENCE_MSG)\n"
     ]
    }
   ],
   "source": [
    "model = LogisticRegression()\n",
    "model.fit(X_vec_train, y_train)\n",
    "predicted_value = model.predict(X_vec_test)\n",
    "accuracy_value = roc_auc_score(y_test, predicted_value)"
   ]
  },
  {
   "cell_type": "code",
   "execution_count": 55,
   "metadata": {
    "execution": {
     "iopub.execute_input": "2020-09-18T06:08:12.062245Z",
     "iopub.status.busy": "2020-09-18T06:08:12.061277Z",
     "iopub.status.idle": "2020-09-18T06:08:12.066080Z",
     "shell.execute_reply": "2020-09-18T06:08:12.065202Z"
    },
    "papermill": {
     "duration": 0.1166,
     "end_time": "2020-09-18T06:08:12.066255",
     "exception": false,
     "start_time": "2020-09-18T06:08:11.949655",
     "status": "completed"
    },
    "tags": []
   },
   "outputs": [
    {
     "name": "stdout",
     "output_type": "stream",
     "text": [
      "0.9966511018602802\n"
     ]
    }
   ],
   "source": [
    "print(accuracy_value)"
   ]
  },
  {
   "cell_type": "markdown",
   "metadata": {
    "papermill": {
     "duration": 0.104741,
     "end_time": "2020-09-18T06:08:12.275979",
     "exception": false,
     "start_time": "2020-09-18T06:08:12.171238",
     "status": "completed"
    },
    "tags": []
   },
   "source": [
    "### so our new predicted result is 99.66, not much difference from previous one. though im not doing much work in modeling. but i can assure you this dataset always given u above 90% accuracy."
   ]
  },
  {
   "cell_type": "markdown",
   "metadata": {
    "papermill": {
     "duration": 0.104184,
     "end_time": "2020-09-18T06:08:12.487645",
     "exception": false,
     "start_time": "2020-09-18T06:08:12.383461",
     "status": "completed"
    },
    "tags": []
   },
   "source": [
    "### why this is. is it really easy to find out which news are fake and which are real. i don't know. but i want to show u something about this dataset. "
   ]
  },
  {
   "cell_type": "markdown",
   "metadata": {
    "papermill": {
     "duration": 0.1056,
     "end_time": "2020-09-18T06:08:12.701064",
     "exception": false,
     "start_time": "2020-09-18T06:08:12.595464",
     "status": "completed"
    },
    "tags": []
   },
   "source": [
    "### I'm much inspired from this notebook. You can check also. Im getting some idea from this notebook to knowing you about this dataset.\n",
    "[https://www.kaggle.com/josutk/only-one-word-99-2](https://www.kaggle.com/josutk/only-one-word-99-2)"
   ]
  },
  {
   "cell_type": "markdown",
   "metadata": {
    "papermill": {
     "duration": 0.103523,
     "end_time": "2020-09-18T06:08:12.911233",
     "exception": false,
     "start_time": "2020-09-18T06:08:12.807710",
     "status": "completed"
    },
    "tags": []
   },
   "source": [
    "<h2 style=\"font-size: 30px;color: #ae2e28;\">Part - 2</h2>"
   ]
  },
  {
   "cell_type": "markdown",
   "metadata": {
    "papermill": {
     "duration": 0.103672,
     "end_time": "2020-09-18T06:08:13.121087",
     "exception": false,
     "start_time": "2020-09-18T06:08:13.017415",
     "status": "completed"
    },
    "tags": []
   },
   "source": [
    "# Deep drive in this Dataset"
   ]
  },
  {
   "cell_type": "markdown",
   "metadata": {
    "papermill": {
     "duration": 0.105673,
     "end_time": "2020-09-18T06:08:13.335279",
     "exception": false,
     "start_time": "2020-09-18T06:08:13.229606",
     "status": "completed"
    },
    "tags": []
   },
   "source": [
    "## Fact-1: Subject Distribution"
   ]
  },
  {
   "cell_type": "code",
   "execution_count": 56,
   "metadata": {
    "execution": {
     "iopub.execute_input": "2020-09-18T06:08:13.583251Z",
     "iopub.status.busy": "2020-09-18T06:08:13.582185Z",
     "iopub.status.idle": "2020-09-18T06:08:13.627118Z",
     "shell.execute_reply": "2020-09-18T06:08:13.626139Z"
    },
    "papermill": {
     "duration": 0.186929,
     "end_time": "2020-09-18T06:08:13.627280",
     "exception": false,
     "start_time": "2020-09-18T06:08:13.440351",
     "status": "completed"
    },
    "tags": []
   },
   "outputs": [
    {
     "data": {
      "text/html": [
       "<div>\n",
       "<style scoped>\n",
       "    .dataframe tbody tr th:only-of-type {\n",
       "        vertical-align: middle;\n",
       "    }\n",
       "\n",
       "    .dataframe tbody tr th {\n",
       "        vertical-align: top;\n",
       "    }\n",
       "\n",
       "    .dataframe thead th {\n",
       "        text-align: right;\n",
       "    }\n",
       "</style>\n",
       "<table border=\"1\" class=\"dataframe\">\n",
       "  <thead>\n",
       "    <tr style=\"text-align: right;\">\n",
       "      <th></th>\n",
       "      <th>title</th>\n",
       "      <th>text</th>\n",
       "      <th>subject</th>\n",
       "      <th>date</th>\n",
       "      <th>target</th>\n",
       "    </tr>\n",
       "  </thead>\n",
       "  <tbody>\n",
       "    <tr>\n",
       "      <th>0</th>\n",
       "      <td>As U.S. budget fight looms, Republicans flip t...</td>\n",
       "      <td>WASHINGTON (Reuters) - The head of a conservat...</td>\n",
       "      <td>politics</td>\n",
       "      <td>December 31, 2017</td>\n",
       "      <td>1</td>\n",
       "    </tr>\n",
       "    <tr>\n",
       "      <th>1</th>\n",
       "      <td>U.S. military to accept transgender recruits o...</td>\n",
       "      <td>WASHINGTON (Reuters) - Transgender people will...</td>\n",
       "      <td>politics</td>\n",
       "      <td>December 29, 2017</td>\n",
       "      <td>1</td>\n",
       "    </tr>\n",
       "    <tr>\n",
       "      <th>2</th>\n",
       "      <td>Senior U.S. Republican senator: 'Let Mr. Muell...</td>\n",
       "      <td>WASHINGTON (Reuters) - The special counsel inv...</td>\n",
       "      <td>politics</td>\n",
       "      <td>December 31, 2017</td>\n",
       "      <td>1</td>\n",
       "    </tr>\n",
       "    <tr>\n",
       "      <th>3</th>\n",
       "      <td>FBI Russia probe helped by Australian diplomat...</td>\n",
       "      <td>WASHINGTON (Reuters) - Trump campaign adviser ...</td>\n",
       "      <td>politics</td>\n",
       "      <td>December 30, 2017</td>\n",
       "      <td>1</td>\n",
       "    </tr>\n",
       "    <tr>\n",
       "      <th>4</th>\n",
       "      <td>Trump wants Postal Service to charge 'much mor...</td>\n",
       "      <td>SEATTLE/WASHINGTON (Reuters) - President Donal...</td>\n",
       "      <td>politics</td>\n",
       "      <td>December 29, 2017</td>\n",
       "      <td>1</td>\n",
       "    </tr>\n",
       "  </tbody>\n",
       "</table>\n",
       "</div>"
      ],
      "text/plain": [
       "                                               title  \\\n",
       "0  As U.S. budget fight looms, Republicans flip t...   \n",
       "1  U.S. military to accept transgender recruits o...   \n",
       "2  Senior U.S. Republican senator: 'Let Mr. Muell...   \n",
       "3  FBI Russia probe helped by Australian diplomat...   \n",
       "4  Trump wants Postal Service to charge 'much mor...   \n",
       "\n",
       "                                                text   subject  \\\n",
       "0  WASHINGTON (Reuters) - The head of a conservat...  politics   \n",
       "1  WASHINGTON (Reuters) - Transgender people will...  politics   \n",
       "2  WASHINGTON (Reuters) - The special counsel inv...  politics   \n",
       "3  WASHINGTON (Reuters) - Trump campaign adviser ...  politics   \n",
       "4  SEATTLE/WASHINGTON (Reuters) - President Donal...  politics   \n",
       "\n",
       "                 date  target  \n",
       "0  December 31, 2017        1  \n",
       "1  December 29, 2017        1  \n",
       "2  December 31, 2017        1  \n",
       "3  December 30, 2017        1  \n",
       "4  December 29, 2017        1  "
      ]
     },
     "execution_count": 56,
     "metadata": {},
     "output_type": "execute_result"
    }
   ],
   "source": [
    "ex_combine_data = combine_data.copy()\n",
    "ex_combine_data = ex_combine_data.replace([\"politicsNews\"], 'politics')\n",
    "ex_combine_data.head()"
   ]
  },
  {
   "cell_type": "code",
   "execution_count": 57,
   "metadata": {
    "execution": {
     "iopub.execute_input": "2020-09-18T06:08:13.875995Z",
     "iopub.status.busy": "2020-09-18T06:08:13.874892Z",
     "iopub.status.idle": "2020-09-18T06:08:14.232067Z",
     "shell.execute_reply": "2020-09-18T06:08:14.230340Z"
    },
    "papermill": {
     "duration": 0.482829,
     "end_time": "2020-09-18T06:08:14.232402",
     "exception": false,
     "start_time": "2020-09-18T06:08:13.749573",
     "status": "completed"
    },
    "tags": []
   },
   "outputs": [
    {
     "data": {
      "text/plain": [
       "Text(0.5, 1.0, 'Data distribution of fake and real data')"
      ]
     },
     "execution_count": 57,
     "metadata": {},
     "output_type": "execute_result"
    },
    {
     "data": {
      "image/png": "[encoded data removed]",
      "text/plain": [
       "<Figure size 1080x720 with 1 Axes>"
      ]
     },
     "metadata": {},
     "output_type": "display_data"
    }
   ],
   "source": [
    "plt.figure(figsize=(15, 10))\n",
    "sns.set(style=\"darkgrid\")\n",
    "\n",
    "color = sns.color_palette(\"Set2\")\n",
    "ax = sns.countplot(x=\"subject\",  hue='target', data=ex_combine_data, palette=color)\n",
    "\n",
    "# ax.set(xticklabels=['fake', 'real'])\n",
    "\n",
    "plt.title(\"Data distribution of fake and real data\")"
   ]
  },
  {
   "cell_type": "markdown",
   "metadata": {
    "papermill": {
     "duration": 0.108952,
     "end_time": "2020-09-18T06:08:14.453003",
     "exception": false,
     "start_time": "2020-09-18T06:08:14.344051",
     "status": "completed"
    },
    "tags": []
   },
   "source": [
    "#### Subjects are not well distributed The real data contains only two subjects and the fake data contains the remaining subjects. Only Politics are common.\n",
    "\n",
    "#### So the question is, does this description follow their titles? Otherwise we can say that any news we get about the US or the Middle East is completely fake. Does it make sense?"
   ]
  },
  {
   "cell_type": "markdown",
   "metadata": {
    "papermill": {
     "duration": 0.106685,
     "end_time": "2020-09-18T06:08:14.669400",
     "exception": false,
     "start_time": "2020-09-18T06:08:14.562715",
     "status": "completed"
    },
    "tags": []
   },
   "source": [
    "## Fact-2: Text Length"
   ]
  },
  {
   "cell_type": "code",
   "execution_count": null,
   "metadata": {
    "papermill": {
     "duration": 0.110982,
     "end_time": "2020-09-18T06:08:14.891990",
     "exception": false,
     "start_time": "2020-09-18T06:08:14.781008",
     "status": "completed"
    },
    "tags": []
   },
   "outputs": [],
   "source": []
  },
  {
   "cell_type": "code",
   "execution_count": 58,
   "metadata": {
    "execution": {
     "iopub.execute_input": "2020-09-18T06:08:15.136032Z",
     "iopub.status.busy": "2020-09-18T06:08:15.134722Z",
     "iopub.status.idle": "2020-09-18T06:08:27.849274Z",
     "shell.execute_reply": "2020-09-18T06:08:27.848571Z"
    },
    "papermill": {
     "duration": 12.847379,
     "end_time": "2020-09-18T06:08:27.849441",
     "exception": false,
     "start_time": "2020-09-18T06:08:15.002062",
     "status": "completed"
    },
    "tags": []
   },
   "outputs": [
    {
     "name": "stderr",
     "output_type": "stream",
     "text": [
      "/opt/conda/lib/python3.7/site-packages/numpy/core/fromnumeric.py:3335: RuntimeWarning: Mean of empty slice.\n",
      "  out=out, **kwargs)\n",
      "/opt/conda/lib/python3.7/site-packages/numpy/core/_methods.py:161: RuntimeWarning: invalid value encountered in double_scalars\n",
      "  ret = ret.dtype.type(ret / rcount)\n",
      "/opt/conda/lib/python3.7/site-packages/numpy/core/fromnumeric.py:3335: RuntimeWarning: Mean of empty slice.\n",
      "  out=out, **kwargs)\n",
      "/opt/conda/lib/python3.7/site-packages/numpy/core/_methods.py:161: RuntimeWarning: invalid value encountered in double_scalars\n",
      "  ret = ret.dtype.type(ret / rcount)\n"
     ]
    },
    {
     "data": {
      "text/plain": [
       "Text(0.5, 0.98, 'Average word length in each text')"
      ]
     },
     "execution_count": 58,
     "metadata": {},
     "output_type": "execute_result"
    },
    {
     "data": {
      "image/png": "[encoded data removed]",
      "text/plain": [
       "<Figure size 1224x576 with 2 Axes>"
      ]
     },
     "metadata": {},
     "output_type": "display_data"
    }
   ],
   "source": [
    "fig,(ax1,ax2)=plt.subplots(1,2,figsize=(17,8))\n",
    "\n",
    "word = ex_combine_data[ex_combine_data['target']==1]['text'].str.split().apply(lambda x : [len(i) for i in x])\n",
    "sns.distplot(word.map(lambda x: np.mean(x)),ax=ax1,color='blue')\n",
    "ax1.set_title('Real text')\n",
    "\n",
    "word = ex_combine_data[ex_combine_data['target']==0]['text'].str.split().apply(lambda x : [len(i) for i in x])\n",
    "sns.distplot(word.map(lambda x: np.mean(x)),ax=ax2,color='red')\n",
    "ax2.set_title('Fake text')\n",
    "\n",
    "fig.suptitle('Average word length in each text')"
   ]
  },
  {
   "cell_type": "markdown",
   "metadata": {
    "papermill": {
     "duration": 0.112316,
     "end_time": "2020-09-18T06:08:28.073977",
     "exception": false,
     "start_time": "2020-09-18T06:08:27.961661",
     "status": "completed"
    },
    "tags": []
   },
   "source": [
    "#### Average text length are not same for both. And the difference are really remarkable. Yes length can not be same but this difference is huge. Maybe it can be hamper some training model."
   ]
  },
  {
   "cell_type": "markdown",
   "metadata": {
    "papermill": {
     "duration": 0.107146,
     "end_time": "2020-09-18T06:08:28.293502",
     "exception": false,
     "start_time": "2020-09-18T06:08:28.186356",
     "status": "completed"
    },
    "tags": []
   },
   "source": [
    "## Fact-3: Unique Words"
   ]
  },
  {
   "cell_type": "code",
   "execution_count": 59,
   "metadata": {
    "execution": {
     "iopub.execute_input": "2020-09-18T06:08:28.536842Z",
     "iopub.status.busy": "2020-09-18T06:08:28.528691Z",
     "iopub.status.idle": "2020-09-18T06:08:49.850737Z",
     "shell.execute_reply": "2020-09-18T06:08:49.849920Z"
    },
    "papermill": {
     "duration": 21.444565,
     "end_time": "2020-09-18T06:08:49.850919",
     "exception": false,
     "start_time": "2020-09-18T06:08:28.406354",
     "status": "completed"
    },
    "tags": []
   },
   "outputs": [
    {
     "data": {
      "text/html": [
       "<div>\n",
       "<style scoped>\n",
       "    .dataframe tbody tr th:only-of-type {\n",
       "        vertical-align: middle;\n",
       "    }\n",
       "\n",
       "    .dataframe tbody tr th {\n",
       "        vertical-align: top;\n",
       "    }\n",
       "\n",
       "    .dataframe thead th {\n",
       "        text-align: right;\n",
       "    }\n",
       "</style>\n",
       "<table border=\"1\" class=\"dataframe\">\n",
       "  <thead>\n",
       "    <tr style=\"text-align: right;\">\n",
       "      <th></th>\n",
       "      <th>index</th>\n",
       "      <th>count</th>\n",
       "    </tr>\n",
       "  </thead>\n",
       "  <tbody>\n",
       "    <tr>\n",
       "      <th>0</th>\n",
       "      <td>the</td>\n",
       "      <td>422622</td>\n",
       "    </tr>\n",
       "    <tr>\n",
       "      <th>1</th>\n",
       "      <td>to</td>\n",
       "      <td>243787</td>\n",
       "    </tr>\n",
       "    <tr>\n",
       "      <th>2</th>\n",
       "      <td>of</td>\n",
       "      <td>204339</td>\n",
       "    </tr>\n",
       "    <tr>\n",
       "      <th>3</th>\n",
       "      <td>a</td>\n",
       "      <td>187214</td>\n",
       "    </tr>\n",
       "    <tr>\n",
       "      <th>4</th>\n",
       "      <td>and</td>\n",
       "      <td>179411</td>\n",
       "    </tr>\n",
       "  </tbody>\n",
       "</table>\n",
       "</div>"
      ],
      "text/plain": [
       "  index   count\n",
       "0   the  422622\n",
       "1    to  243787\n",
       "2    of  204339\n",
       "3     a  187214\n",
       "4   and  179411"
      ]
     },
     "execution_count": 59,
     "metadata": {},
     "output_type": "execute_result"
    }
   ],
   "source": [
    "all_words_after = real_data['text'].str.split()\n",
    "merged = list(chain(*all_words_after))\n",
    "d = Counter(merged)\n",
    "df = pd.DataFrame(data=d, index=['count'])\n",
    "top_count_words = df.T.sort_values(by=['count'], ascending=False).reset_index().head(50)\n",
    "top_count_words.head()"
   ]
  },
  {
   "cell_type": "code",
   "execution_count": 60,
   "metadata": {
    "execution": {
     "iopub.execute_input": "2020-09-18T06:08:50.102171Z",
     "iopub.status.busy": "2020-09-18T06:08:50.096757Z",
     "iopub.status.idle": "2020-09-18T06:08:54.457940Z",
     "shell.execute_reply": "2020-09-18T06:08:54.456885Z"
    },
    "papermill": {
     "duration": 4.489475,
     "end_time": "2020-09-18T06:08:54.458151",
     "exception": false,
     "start_time": "2020-09-18T06:08:49.968676",
     "status": "completed"
    },
    "tags": []
   },
   "outputs": [
    {
     "name": "stdout",
     "output_type": "stream",
     "text": [
      "163084\n"
     ]
    }
   ],
   "source": [
    "from collections import Counter\n",
    "results = Counter()\n",
    "real_data['text'].str.lower().str.split().apply(results.update)\n",
    "real_unq_count = len(results)\n",
    "print(real_unq_count)"
   ]
  },
  {
   "cell_type": "code",
   "execution_count": 61,
   "metadata": {
    "execution": {
     "iopub.execute_input": "2020-09-18T06:08:54.770043Z",
     "iopub.status.busy": "2020-09-18T06:08:54.768749Z",
     "iopub.status.idle": "2020-09-18T06:08:59.676818Z",
     "shell.execute_reply": "2020-09-18T06:08:59.676030Z"
    },
    "papermill": {
     "duration": 5.100866,
     "end_time": "2020-09-18T06:08:59.676963",
     "exception": false,
     "start_time": "2020-09-18T06:08:54.576097",
     "status": "completed"
    },
    "tags": []
   },
   "outputs": [
    {
     "name": "stdout",
     "output_type": "stream",
     "text": [
      "267271\n"
     ]
    }
   ],
   "source": [
    "results = Counter()\n",
    "fake_data['text'].str.lower().str.split().apply(results.update)\n",
    "fake_unq_count = len(results)\n",
    "print(fake_unq_count)"
   ]
  },
  {
   "cell_type": "code",
   "execution_count": 62,
   "metadata": {
    "execution": {
     "iopub.execute_input": "2020-09-18T06:08:59.924871Z",
     "iopub.status.busy": "2020-09-18T06:08:59.924077Z",
     "iopub.status.idle": "2020-09-18T06:09:00.082603Z",
     "shell.execute_reply": "2020-09-18T06:09:00.081816Z"
    },
    "papermill": {
     "duration": 0.28874,
     "end_time": "2020-09-18T06:09:00.082735",
     "exception": false,
     "start_time": "2020-09-18T06:08:59.793995",
     "status": "completed"
    },
    "tags": []
   },
   "outputs": [
    {
     "data": {
      "image/png": "[encoded data removed]",
      "text/plain": [
       "<Figure size 576x576 with 1 Axes>"
      ]
     },
     "metadata": {},
     "output_type": "display_data"
    }
   ],
   "source": [
    "plt.figure(figsize=(8,8))\n",
    "plt.bar([1, 2], [real_unq_count, fake_unq_count], color=['#72b6a1', '#e99675'])\n",
    "plt.xticks([1,2], ('real', 'fake'))\n",
    "plt.show()"
   ]
  },
  {
   "cell_type": "markdown",
   "metadata": {
    "papermill": {
     "duration": 0.116989,
     "end_time": "2020-09-18T06:09:00.316076",
     "exception": false,
     "start_time": "2020-09-18T06:09:00.199087",
     "status": "completed"
    },
    "tags": []
   },
   "source": [
    "#### Earlier we saw that the average text length of fake information is not very long, but in unique words it appears higher than the real data. That's mean, the ratio of same words is too much. What Do you think is this okay for prediction?"
   ]
  },
  {
   "cell_type": "code",
   "execution_count": null,
   "metadata": {
    "papermill": {
     "duration": 0.116728,
     "end_time": "2020-09-18T06:09:00.547435",
     "exception": false,
     "start_time": "2020-09-18T06:09:00.430707",
     "status": "completed"
    },
    "tags": []
   },
   "outputs": [],
   "source": []
  },
  {
   "cell_type": "markdown",
   "metadata": {
    "papermill": {
     "duration": 0.116012,
     "end_time": "2020-09-18T06:09:00.784060",
     "exception": false,
     "start_time": "2020-09-18T06:09:00.668048",
     "status": "completed"
    },
    "tags": []
   },
   "source": [
    "## So What is yours finding, is this title real or fake?"
   ]
  }
 ],
 "metadata": {
  "kernelspec": {
   "display_name": "Python 3",
   "language": "python",
   "name": "python3"
  },
  "language_info": {
   "codemirror_mode": {
    "name": "ipython",
    "version": 3
   },
   "file_extension": ".py",
   "mimetype": "text/x-python",
   "name": "python",
   "nbconvert_exporter": "python",
   "pygments_lexer": "ipython3",
   "version": "3.7.6"
  },
  "papermill": {
   "duration": 776.033601,
   "end_time": "2020-09-18T06:09:01.208921",
   "environment_variables": {},
   "exception": null,
   "input_path": "__notebook__.ipynb",
   "output_path": "__notebook__.ipynb",
   "parameters": {},
   "start_time": "2020-09-18T05:56:05.175320",
   "version": "2.1.0"
  }
 },
 "nbformat": 4,
 "nbformat_minor": 4
}
